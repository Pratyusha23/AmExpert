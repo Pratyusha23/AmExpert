{
 "cells": [
  {
   "cell_type": "code",
   "execution_count": 2,
   "metadata": {},
   "outputs": [],
   "source": [
    "import numpy as np\n",
    "import pandas as pd"
   ]
  },
  {
   "cell_type": "code",
   "execution_count": 3,
   "metadata": {},
   "outputs": [
    {
     "data": {
      "text/plain": [
       "'C:\\\\Users\\\\tejaramk\\\\Downloads\\\\Amex'"
      ]
     },
     "execution_count": 3,
     "metadata": {},
     "output_type": "execute_result"
    }
   ],
   "source": [
    "import os\n",
    "os.getcwd()"
   ]
  },
  {
   "cell_type": "code",
   "execution_count": 3,
   "metadata": {},
   "outputs": [],
   "source": [
    "#os.chdir('C:/Users/30030388/Downloads/Amex/')"
   ]
  },
  {
   "cell_type": "code",
   "execution_count": 4,
   "metadata": {},
   "outputs": [],
   "source": [
    "campaign_data = pd.read_csv('campaign_data.csv')"
   ]
  },
  {
   "cell_type": "code",
   "execution_count": 5,
   "metadata": {},
   "outputs": [
    {
     "data": {
      "text/html": [
       "<div>\n",
       "<style scoped>\n",
       "    .dataframe tbody tr th:only-of-type {\n",
       "        vertical-align: middle;\n",
       "    }\n",
       "\n",
       "    .dataframe tbody tr th {\n",
       "        vertical-align: top;\n",
       "    }\n",
       "\n",
       "    .dataframe thead th {\n",
       "        text-align: right;\n",
       "    }\n",
       "</style>\n",
       "<table border=\"1\" class=\"dataframe\">\n",
       "  <thead>\n",
       "    <tr style=\"text-align: right;\">\n",
       "      <th></th>\n",
       "      <th>campaign_id</th>\n",
       "      <th>campaign_type</th>\n",
       "      <th>start_date</th>\n",
       "      <th>end_date</th>\n",
       "    </tr>\n",
       "  </thead>\n",
       "  <tbody>\n",
       "    <tr>\n",
       "      <th>0</th>\n",
       "      <td>24</td>\n",
       "      <td>Y</td>\n",
       "      <td>21/10/13</td>\n",
       "      <td>20/12/13</td>\n",
       "    </tr>\n",
       "    <tr>\n",
       "      <th>1</th>\n",
       "      <td>25</td>\n",
       "      <td>Y</td>\n",
       "      <td>21/10/13</td>\n",
       "      <td>22/11/13</td>\n",
       "    </tr>\n",
       "    <tr>\n",
       "      <th>2</th>\n",
       "      <td>20</td>\n",
       "      <td>Y</td>\n",
       "      <td>07/09/13</td>\n",
       "      <td>16/11/13</td>\n",
       "    </tr>\n",
       "  </tbody>\n",
       "</table>\n",
       "</div>"
      ],
      "text/plain": [
       "   campaign_id campaign_type start_date  end_date\n",
       "0           24             Y   21/10/13  20/12/13\n",
       "1           25             Y   21/10/13  22/11/13\n",
       "2           20             Y   07/09/13  16/11/13"
      ]
     },
     "execution_count": 5,
     "metadata": {},
     "output_type": "execute_result"
    }
   ],
   "source": [
    "campaign_data.head(3)"
   ]
  },
  {
   "cell_type": "code",
   "execution_count": 6,
   "metadata": {},
   "outputs": [],
   "source": [
    "campaign_data.start_date = pd.to_datetime(campaign_data.start_date, format = '%d/%m/%y')\n",
    "campaign_data.end_date = pd.to_datetime(campaign_data.end_date, format = '%d/%m/%y')\n",
    "campaign_data['campaign_duration'] = (campaign_data.end_date - campaign_data.start_date).dt.days"
   ]
  },
  {
   "cell_type": "code",
   "execution_count": 7,
   "metadata": {},
   "outputs": [
    {
     "data": {
      "text/plain": [
       "(28, 5)"
      ]
     },
     "execution_count": 7,
     "metadata": {},
     "output_type": "execute_result"
    }
   ],
   "source": [
    "campaign_data.shape"
   ]
  },
  {
   "cell_type": "code",
   "execution_count": 8,
   "metadata": {},
   "outputs": [],
   "source": [
    "campaign_data.sort_values(['start_date'], inplace = True)"
   ]
  },
  {
   "cell_type": "code",
   "execution_count": 9,
   "metadata": {},
   "outputs": [
    {
     "data": {
      "text/html": [
       "<div>\n",
       "<style scoped>\n",
       "    .dataframe tbody tr th:only-of-type {\n",
       "        vertical-align: middle;\n",
       "    }\n",
       "\n",
       "    .dataframe tbody tr th {\n",
       "        vertical-align: top;\n",
       "    }\n",
       "\n",
       "    .dataframe thead th {\n",
       "        text-align: right;\n",
       "    }\n",
       "</style>\n",
       "<table border=\"1\" class=\"dataframe\">\n",
       "  <thead>\n",
       "    <tr style=\"text-align: right;\">\n",
       "      <th></th>\n",
       "      <th>campaign_id</th>\n",
       "      <th>campaign_duration</th>\n",
       "    </tr>\n",
       "  </thead>\n",
       "  <tbody>\n",
       "    <tr>\n",
       "      <th>count</th>\n",
       "      <td>28.000000</td>\n",
       "      <td>28.000000</td>\n",
       "    </tr>\n",
       "    <tr>\n",
       "      <th>mean</th>\n",
       "      <td>15.571429</td>\n",
       "      <td>41.857143</td>\n",
       "    </tr>\n",
       "    <tr>\n",
       "      <th>std</th>\n",
       "      <td>9.118271</td>\n",
       "      <td>11.958924</td>\n",
       "    </tr>\n",
       "    <tr>\n",
       "      <th>min</th>\n",
       "      <td>1.000000</td>\n",
       "      <td>32.000000</td>\n",
       "    </tr>\n",
       "    <tr>\n",
       "      <th>25%</th>\n",
       "      <td>7.750000</td>\n",
       "      <td>32.000000</td>\n",
       "    </tr>\n",
       "    <tr>\n",
       "      <th>50%</th>\n",
       "      <td>16.500000</td>\n",
       "      <td>35.500000</td>\n",
       "    </tr>\n",
       "    <tr>\n",
       "      <th>75%</th>\n",
       "      <td>23.250000</td>\n",
       "      <td>49.250000</td>\n",
       "    </tr>\n",
       "    <tr>\n",
       "      <th>max</th>\n",
       "      <td>30.000000</td>\n",
       "      <td>70.000000</td>\n",
       "    </tr>\n",
       "  </tbody>\n",
       "</table>\n",
       "</div>"
      ],
      "text/plain": [
       "       campaign_id  campaign_duration\n",
       "count    28.000000          28.000000\n",
       "mean     15.571429          41.857143\n",
       "std       9.118271          11.958924\n",
       "min       1.000000          32.000000\n",
       "25%       7.750000          32.000000\n",
       "50%      16.500000          35.500000\n",
       "75%      23.250000          49.250000\n",
       "max      30.000000          70.000000"
      ]
     },
     "execution_count": 9,
     "metadata": {},
     "output_type": "execute_result"
    }
   ],
   "source": [
    "campaign_data.describe()"
   ]
  },
  {
   "cell_type": "code",
   "execution_count": 10,
   "metadata": {},
   "outputs": [],
   "source": [
    "campaign_data[\"season\"]=campaign_data[\"start_date\"].apply(lambda dt: (dt.month%12 + 3)//3)"
   ]
  },
  {
   "cell_type": "code",
   "execution_count": 11,
   "metadata": {},
   "outputs": [],
   "source": [
    "def CreateDateSeq(df,start_date_column_name,end_date_column_name):\n",
    "    new_df=pd.DataFrame()\n",
    "    for i in range(len(df)):\n",
    "        p=pd.DataFrame()\n",
    "        p[\"Date\"]=pd.date_range(df.loc[i,start_date_column_name],df.loc[i,end_date_column_name])\n",
    "        x=list(df.columns)\n",
    "        #x=x.remove(start_date_column_name)\n",
    "        #x=x.remove(end_date_column_name)\n",
    "        for j in range(len(x)):\n",
    "            p[x[j]]=df.loc[i,x[j]]\n",
    "        new_df=pd.concat([new_df,p],axis=0)\n",
    "    return new_df"
   ]
  },
  {
   "cell_type": "code",
   "execution_count": 12,
   "metadata": {},
   "outputs": [],
   "source": [
    "Campaign_Data_Seq=CreateDateSeq(campaign_data,\"start_date\",\"end_date\")"
   ]
  },
  {
   "cell_type": "code",
   "execution_count": 13,
   "metadata": {},
   "outputs": [
    {
     "data": {
      "text/html": [
       "<div>\n",
       "<style scoped>\n",
       "    .dataframe tbody tr th:only-of-type {\n",
       "        vertical-align: middle;\n",
       "    }\n",
       "\n",
       "    .dataframe tbody tr th {\n",
       "        vertical-align: top;\n",
       "    }\n",
       "\n",
       "    .dataframe thead th {\n",
       "        text-align: right;\n",
       "    }\n",
       "</style>\n",
       "<table border=\"1\" class=\"dataframe\">\n",
       "  <thead>\n",
       "    <tr style=\"text-align: right;\">\n",
       "      <th></th>\n",
       "      <th>Date</th>\n",
       "      <th>campaign_id</th>\n",
       "      <th>campaign_type</th>\n",
       "      <th>start_date</th>\n",
       "      <th>end_date</th>\n",
       "      <th>campaign_duration</th>\n",
       "      <th>season</th>\n",
       "    </tr>\n",
       "  </thead>\n",
       "  <tbody>\n",
       "    <tr>\n",
       "      <th>0</th>\n",
       "      <td>2013-10-21</td>\n",
       "      <td>24</td>\n",
       "      <td>Y</td>\n",
       "      <td>2013-10-21</td>\n",
       "      <td>2013-12-20</td>\n",
       "      <td>60</td>\n",
       "      <td>4</td>\n",
       "    </tr>\n",
       "    <tr>\n",
       "      <th>1</th>\n",
       "      <td>2013-10-22</td>\n",
       "      <td>24</td>\n",
       "      <td>Y</td>\n",
       "      <td>2013-10-21</td>\n",
       "      <td>2013-12-20</td>\n",
       "      <td>60</td>\n",
       "      <td>4</td>\n",
       "    </tr>\n",
       "    <tr>\n",
       "      <th>2</th>\n",
       "      <td>2013-10-23</td>\n",
       "      <td>24</td>\n",
       "      <td>Y</td>\n",
       "      <td>2013-10-21</td>\n",
       "      <td>2013-12-20</td>\n",
       "      <td>60</td>\n",
       "      <td>4</td>\n",
       "    </tr>\n",
       "  </tbody>\n",
       "</table>\n",
       "</div>"
      ],
      "text/plain": [
       "        Date  campaign_id campaign_type start_date   end_date  \\\n",
       "0 2013-10-21           24             Y 2013-10-21 2013-12-20   \n",
       "1 2013-10-22           24             Y 2013-10-21 2013-12-20   \n",
       "2 2013-10-23           24             Y 2013-10-21 2013-12-20   \n",
       "\n",
       "   campaign_duration  season  \n",
       "0                 60       4  \n",
       "1                 60       4  \n",
       "2                 60       4  "
      ]
     },
     "execution_count": 13,
     "metadata": {},
     "output_type": "execute_result"
    }
   ],
   "source": [
    "Campaign_Data_Seq.head(3)"
   ]
  },
  {
   "cell_type": "code",
   "execution_count": 14,
   "metadata": {},
   "outputs": [],
   "source": [
    "item_data = pd.read_csv('item_data.csv')"
   ]
  },
  {
   "cell_type": "code",
   "execution_count": 15,
   "metadata": {},
   "outputs": [
    {
     "data": {
      "text/html": [
       "<div>\n",
       "<style scoped>\n",
       "    .dataframe tbody tr th:only-of-type {\n",
       "        vertical-align: middle;\n",
       "    }\n",
       "\n",
       "    .dataframe tbody tr th {\n",
       "        vertical-align: top;\n",
       "    }\n",
       "\n",
       "    .dataframe thead th {\n",
       "        text-align: right;\n",
       "    }\n",
       "</style>\n",
       "<table border=\"1\" class=\"dataframe\">\n",
       "  <thead>\n",
       "    <tr style=\"text-align: right;\">\n",
       "      <th></th>\n",
       "      <th>item_id</th>\n",
       "      <th>brand</th>\n",
       "      <th>brand_type</th>\n",
       "      <th>category</th>\n",
       "    </tr>\n",
       "  </thead>\n",
       "  <tbody>\n",
       "    <tr>\n",
       "      <th>0</th>\n",
       "      <td>1</td>\n",
       "      <td>1</td>\n",
       "      <td>Established</td>\n",
       "      <td>Grocery</td>\n",
       "    </tr>\n",
       "    <tr>\n",
       "      <th>1</th>\n",
       "      <td>2</td>\n",
       "      <td>1</td>\n",
       "      <td>Established</td>\n",
       "      <td>Miscellaneous</td>\n",
       "    </tr>\n",
       "    <tr>\n",
       "      <th>2</th>\n",
       "      <td>3</td>\n",
       "      <td>56</td>\n",
       "      <td>Local</td>\n",
       "      <td>Bakery</td>\n",
       "    </tr>\n",
       "    <tr>\n",
       "      <th>3</th>\n",
       "      <td>4</td>\n",
       "      <td>56</td>\n",
       "      <td>Local</td>\n",
       "      <td>Grocery</td>\n",
       "    </tr>\n",
       "    <tr>\n",
       "      <th>4</th>\n",
       "      <td>5</td>\n",
       "      <td>56</td>\n",
       "      <td>Local</td>\n",
       "      <td>Grocery</td>\n",
       "    </tr>\n",
       "  </tbody>\n",
       "</table>\n",
       "</div>"
      ],
      "text/plain": [
       "   item_id  brand   brand_type       category\n",
       "0        1      1  Established        Grocery\n",
       "1        2      1  Established  Miscellaneous\n",
       "2        3     56        Local         Bakery\n",
       "3        4     56        Local        Grocery\n",
       "4        5     56        Local        Grocery"
      ]
     },
     "execution_count": 15,
     "metadata": {},
     "output_type": "execute_result"
    }
   ],
   "source": [
    "item_data.head()"
   ]
  },
  {
   "cell_type": "code",
   "execution_count": 16,
   "metadata": {},
   "outputs": [
    {
     "data": {
      "text/plain": [
       "(74066, 4)"
      ]
     },
     "execution_count": 16,
     "metadata": {},
     "output_type": "execute_result"
    }
   ],
   "source": [
    "item_data.shape"
   ]
  },
  {
   "cell_type": "code",
   "execution_count": 17,
   "metadata": {},
   "outputs": [],
   "source": [
    "coupon_item = pd.read_csv('coupon_item_mapping.csv')"
   ]
  },
  {
   "cell_type": "code",
   "execution_count": 18,
   "metadata": {},
   "outputs": [
    {
     "data": {
      "text/html": [
       "<div>\n",
       "<style scoped>\n",
       "    .dataframe tbody tr th:only-of-type {\n",
       "        vertical-align: middle;\n",
       "    }\n",
       "\n",
       "    .dataframe tbody tr th {\n",
       "        vertical-align: top;\n",
       "    }\n",
       "\n",
       "    .dataframe thead th {\n",
       "        text-align: right;\n",
       "    }\n",
       "</style>\n",
       "<table border=\"1\" class=\"dataframe\">\n",
       "  <thead>\n",
       "    <tr style=\"text-align: right;\">\n",
       "      <th></th>\n",
       "      <th>coupon_id</th>\n",
       "      <th>item_id</th>\n",
       "    </tr>\n",
       "  </thead>\n",
       "  <tbody>\n",
       "    <tr>\n",
       "      <th>0</th>\n",
       "      <td>105</td>\n",
       "      <td>37</td>\n",
       "    </tr>\n",
       "    <tr>\n",
       "      <th>1</th>\n",
       "      <td>107</td>\n",
       "      <td>75</td>\n",
       "    </tr>\n",
       "    <tr>\n",
       "      <th>2</th>\n",
       "      <td>494</td>\n",
       "      <td>76</td>\n",
       "    </tr>\n",
       "    <tr>\n",
       "      <th>3</th>\n",
       "      <td>522</td>\n",
       "      <td>77</td>\n",
       "    </tr>\n",
       "    <tr>\n",
       "      <th>4</th>\n",
       "      <td>518</td>\n",
       "      <td>77</td>\n",
       "    </tr>\n",
       "  </tbody>\n",
       "</table>\n",
       "</div>"
      ],
      "text/plain": [
       "   coupon_id  item_id\n",
       "0        105       37\n",
       "1        107       75\n",
       "2        494       76\n",
       "3        522       77\n",
       "4        518       77"
      ]
     },
     "execution_count": 18,
     "metadata": {},
     "output_type": "execute_result"
    }
   ],
   "source": [
    "coupon_item.head()"
   ]
  },
  {
   "cell_type": "code",
   "execution_count": 19,
   "metadata": {},
   "outputs": [
    {
     "data": {
      "text/plain": [
       "(92663, 2)"
      ]
     },
     "execution_count": 19,
     "metadata": {},
     "output_type": "execute_result"
    }
   ],
   "source": [
    "coupon_item.shape"
   ]
  },
  {
   "cell_type": "code",
   "execution_count": 20,
   "metadata": {},
   "outputs": [
    {
     "data": {
      "text/plain": [
       "0"
      ]
     },
     "execution_count": 20,
     "metadata": {},
     "output_type": "execute_result"
    }
   ],
   "source": [
    "len(list(set(coupon_item['item_id'].unique())-set(item_data['item_id'].unique())))"
   ]
  },
  {
   "cell_type": "code",
   "execution_count": 21,
   "metadata": {},
   "outputs": [
    {
     "data": {
      "text/plain": [
       "37777"
      ]
     },
     "execution_count": 21,
     "metadata": {},
     "output_type": "execute_result"
    }
   ],
   "source": [
    "len(list(set(item_data['item_id'].unique())-set(coupon_item['item_id'].unique())))"
   ]
  },
  {
   "cell_type": "code",
   "execution_count": 22,
   "metadata": {},
   "outputs": [],
   "source": [
    "coupon_item_2 = pd.merge(coupon_item, item_data, left_on=['item_id'], right_on= ['item_id'], how = 'outer')"
   ]
  },
  {
   "cell_type": "code",
   "execution_count": 23,
   "metadata": {},
   "outputs": [],
   "source": [
    "coupon_item_2=coupon_item_2.fillna(\"NoData\")"
   ]
  },
  {
   "cell_type": "code",
   "execution_count": 24,
   "metadata": {},
   "outputs": [
    {
     "data": {
      "text/html": [
       "<div>\n",
       "<style scoped>\n",
       "    .dataframe tbody tr th:only-of-type {\n",
       "        vertical-align: middle;\n",
       "    }\n",
       "\n",
       "    .dataframe tbody tr th {\n",
       "        vertical-align: top;\n",
       "    }\n",
       "\n",
       "    .dataframe thead th {\n",
       "        text-align: right;\n",
       "    }\n",
       "</style>\n",
       "<table border=\"1\" class=\"dataframe\">\n",
       "  <thead>\n",
       "    <tr style=\"text-align: right;\">\n",
       "      <th></th>\n",
       "      <th>coupon_id</th>\n",
       "      <th>item_id</th>\n",
       "      <th>brand</th>\n",
       "      <th>brand_type</th>\n",
       "      <th>category</th>\n",
       "    </tr>\n",
       "  </thead>\n",
       "  <tbody>\n",
       "    <tr>\n",
       "      <th>0</th>\n",
       "      <td>105</td>\n",
       "      <td>37</td>\n",
       "      <td>56</td>\n",
       "      <td>Local</td>\n",
       "      <td>Grocery</td>\n",
       "    </tr>\n",
       "    <tr>\n",
       "      <th>1</th>\n",
       "      <td>6</td>\n",
       "      <td>37</td>\n",
       "      <td>56</td>\n",
       "      <td>Local</td>\n",
       "      <td>Grocery</td>\n",
       "    </tr>\n",
       "    <tr>\n",
       "      <th>2</th>\n",
       "      <td>22</td>\n",
       "      <td>37</td>\n",
       "      <td>56</td>\n",
       "      <td>Local</td>\n",
       "      <td>Grocery</td>\n",
       "    </tr>\n",
       "  </tbody>\n",
       "</table>\n",
       "</div>"
      ],
      "text/plain": [
       "  coupon_id  item_id  brand brand_type category\n",
       "0       105       37     56      Local  Grocery\n",
       "1         6       37     56      Local  Grocery\n",
       "2        22       37     56      Local  Grocery"
      ]
     },
     "execution_count": 24,
     "metadata": {},
     "output_type": "execute_result"
    }
   ],
   "source": [
    "coupon_item_2.head(3)"
   ]
  },
  {
   "cell_type": "code",
   "execution_count": 25,
   "metadata": {},
   "outputs": [],
   "source": [
    "coupon_item_2=coupon_item_2[coupon_item_2[\"coupon_id\"]!=\"NoData\"]"
   ]
  },
  {
   "cell_type": "code",
   "execution_count": 26,
   "metadata": {},
   "outputs": [],
   "source": [
    "coupon_item_3=coupon_item_2.groupby(['coupon_id',\"brand_type\"]).apply(lambda x: pd.Series({\n",
    "    'no_items' : (x['item_id']).nunique(),\n",
    "    'no_brand' : (x['brand']).nunique(),\n",
    "    'no_category' : (x['category']).nunique(),\n",
    "})).reset_index()"
   ]
  },
  {
   "cell_type": "code",
   "execution_count": 27,
   "metadata": {},
   "outputs": [],
   "source": [
    "coupon_item_3_pivot=pd.DataFrame(pd.pivot_table(coupon_item_3,index=[\"coupon_id\"],\n",
    "                                                columns=[\"brand_type\"],values=[\"no_items\",\"no_brand\",\"no_category\"],\n",
    "                                                aggfunc='sum',fill_value=0).to_records())"
   ]
  },
  {
   "cell_type": "code",
   "execution_count": 28,
   "metadata": {},
   "outputs": [
    {
     "data": {
      "text/html": [
       "<div>\n",
       "<style scoped>\n",
       "    .dataframe tbody tr th:only-of-type {\n",
       "        vertical-align: middle;\n",
       "    }\n",
       "\n",
       "    .dataframe tbody tr th {\n",
       "        vertical-align: top;\n",
       "    }\n",
       "\n",
       "    .dataframe thead th {\n",
       "        text-align: right;\n",
       "    }\n",
       "</style>\n",
       "<table border=\"1\" class=\"dataframe\">\n",
       "  <thead>\n",
       "    <tr style=\"text-align: right;\">\n",
       "      <th></th>\n",
       "      <th>coupon_id</th>\n",
       "      <th>('no_brand', 'Established')</th>\n",
       "      <th>('no_brand', 'Local')</th>\n",
       "      <th>('no_category', 'Established')</th>\n",
       "      <th>('no_category', 'Local')</th>\n",
       "      <th>('no_items', 'Established')</th>\n",
       "      <th>('no_items', 'Local')</th>\n",
       "    </tr>\n",
       "  </thead>\n",
       "  <tbody>\n",
       "    <tr>\n",
       "      <th>0</th>\n",
       "      <td>1.0</td>\n",
       "      <td>3</td>\n",
       "      <td>0</td>\n",
       "      <td>2</td>\n",
       "      <td>0</td>\n",
       "      <td>39</td>\n",
       "      <td>0</td>\n",
       "    </tr>\n",
       "    <tr>\n",
       "      <th>1</th>\n",
       "      <td>2.0</td>\n",
       "      <td>1</td>\n",
       "      <td>0</td>\n",
       "      <td>1</td>\n",
       "      <td>0</td>\n",
       "      <td>2</td>\n",
       "      <td>0</td>\n",
       "    </tr>\n",
       "    <tr>\n",
       "      <th>2</th>\n",
       "      <td>3.0</td>\n",
       "      <td>2</td>\n",
       "      <td>0</td>\n",
       "      <td>1</td>\n",
       "      <td>0</td>\n",
       "      <td>17</td>\n",
       "      <td>0</td>\n",
       "    </tr>\n",
       "  </tbody>\n",
       "</table>\n",
       "</div>"
      ],
      "text/plain": [
       "   coupon_id  ('no_brand', 'Established')  ('no_brand', 'Local')  \\\n",
       "0        1.0                            3                      0   \n",
       "1        2.0                            1                      0   \n",
       "2        3.0                            2                      0   \n",
       "\n",
       "   ('no_category', 'Established')  ('no_category', 'Local')  \\\n",
       "0                               2                         0   \n",
       "1                               1                         0   \n",
       "2                               1                         0   \n",
       "\n",
       "   ('no_items', 'Established')  ('no_items', 'Local')  \n",
       "0                           39                      0  \n",
       "1                            2                      0  \n",
       "2                           17                      0  "
      ]
     },
     "execution_count": 28,
     "metadata": {},
     "output_type": "execute_result"
    }
   ],
   "source": [
    "coupon_item_3_pivot.head(3)"
   ]
  },
  {
   "cell_type": "code",
   "execution_count": 29,
   "metadata": {},
   "outputs": [
    {
     "data": {
      "text/plain": [
       "(1116, 7)"
      ]
     },
     "execution_count": 29,
     "metadata": {},
     "output_type": "execute_result"
    }
   ],
   "source": [
    "coupon_item_3_pivot.shape"
   ]
  },
  {
   "cell_type": "code",
   "execution_count": null,
   "metadata": {},
   "outputs": [],
   "source": []
  },
  {
   "cell_type": "code",
   "execution_count": 187,
   "metadata": {},
   "outputs": [],
   "source": [
    "coupon_item_x = pd.merge(coupon_item, item_data, left_on=['item_id'], right_on= ['item_id'], how = 'left')"
   ]
  },
  {
   "cell_type": "code",
   "execution_count": 191,
   "metadata": {},
   "outputs": [],
   "source": [
    "coupon_item_x_pivot = pd.pivot_table(coupon_item_x[['coupon_id', 'category', 'item_id']], index= ['coupon_id'], columns= ['category'] , aggfunc= ['count']).reset_index()\n",
    "coupon_item_x_pivot = pd.concat([coupon_item_x_pivot['coupon_id'], coupon_item_x_pivot['count']['item_id']], axis =  1)\n",
    "coupon_item_x_pivot.fillna(0, inplace = True)"
   ]
  },
  {
   "cell_type": "code",
   "execution_count": null,
   "metadata": {},
   "outputs": [],
   "source": []
  },
  {
   "cell_type": "code",
   "execution_count": null,
   "metadata": {},
   "outputs": [],
   "source": []
  },
  {
   "cell_type": "code",
   "execution_count": 30,
   "metadata": {},
   "outputs": [],
   "source": [
    "customer_demo  = pd.read_csv('customer_demographics.csv')"
   ]
  },
  {
   "cell_type": "code",
   "execution_count": 31,
   "metadata": {},
   "outputs": [
    {
     "data": {
      "text/html": [
       "<div>\n",
       "<style scoped>\n",
       "    .dataframe tbody tr th:only-of-type {\n",
       "        vertical-align: middle;\n",
       "    }\n",
       "\n",
       "    .dataframe tbody tr th {\n",
       "        vertical-align: top;\n",
       "    }\n",
       "\n",
       "    .dataframe thead th {\n",
       "        text-align: right;\n",
       "    }\n",
       "</style>\n",
       "<table border=\"1\" class=\"dataframe\">\n",
       "  <thead>\n",
       "    <tr style=\"text-align: right;\">\n",
       "      <th></th>\n",
       "      <th>customer_id</th>\n",
       "      <th>age_range</th>\n",
       "      <th>marital_status</th>\n",
       "      <th>rented</th>\n",
       "      <th>family_size</th>\n",
       "      <th>no_of_children</th>\n",
       "      <th>income_bracket</th>\n",
       "    </tr>\n",
       "  </thead>\n",
       "  <tbody>\n",
       "    <tr>\n",
       "      <th>0</th>\n",
       "      <td>1</td>\n",
       "      <td>70+</td>\n",
       "      <td>Married</td>\n",
       "      <td>0</td>\n",
       "      <td>2</td>\n",
       "      <td>NaN</td>\n",
       "      <td>4</td>\n",
       "    </tr>\n",
       "    <tr>\n",
       "      <th>1</th>\n",
       "      <td>6</td>\n",
       "      <td>46-55</td>\n",
       "      <td>Married</td>\n",
       "      <td>0</td>\n",
       "      <td>2</td>\n",
       "      <td>NaN</td>\n",
       "      <td>5</td>\n",
       "    </tr>\n",
       "    <tr>\n",
       "      <th>2</th>\n",
       "      <td>7</td>\n",
       "      <td>26-35</td>\n",
       "      <td>NaN</td>\n",
       "      <td>0</td>\n",
       "      <td>3</td>\n",
       "      <td>1</td>\n",
       "      <td>3</td>\n",
       "    </tr>\n",
       "    <tr>\n",
       "      <th>3</th>\n",
       "      <td>8</td>\n",
       "      <td>26-35</td>\n",
       "      <td>NaN</td>\n",
       "      <td>0</td>\n",
       "      <td>4</td>\n",
       "      <td>2</td>\n",
       "      <td>6</td>\n",
       "    </tr>\n",
       "    <tr>\n",
       "      <th>4</th>\n",
       "      <td>10</td>\n",
       "      <td>46-55</td>\n",
       "      <td>Single</td>\n",
       "      <td>0</td>\n",
       "      <td>1</td>\n",
       "      <td>NaN</td>\n",
       "      <td>5</td>\n",
       "    </tr>\n",
       "  </tbody>\n",
       "</table>\n",
       "</div>"
      ],
      "text/plain": [
       "   customer_id age_range marital_status  rented family_size no_of_children  \\\n",
       "0            1       70+        Married       0           2            NaN   \n",
       "1            6     46-55        Married       0           2            NaN   \n",
       "2            7     26-35            NaN       0           3              1   \n",
       "3            8     26-35            NaN       0           4              2   \n",
       "4           10     46-55         Single       0           1            NaN   \n",
       "\n",
       "   income_bracket  \n",
       "0               4  \n",
       "1               5  \n",
       "2               3  \n",
       "3               6  \n",
       "4               5  "
      ]
     },
     "execution_count": 31,
     "metadata": {},
     "output_type": "execute_result"
    }
   ],
   "source": [
    "customer_demo.head()"
   ]
  },
  {
   "cell_type": "code",
   "execution_count": 32,
   "metadata": {},
   "outputs": [
    {
     "data": {
      "text/plain": [
       "customer_id         0\n",
       "age_range           0\n",
       "marital_status    329\n",
       "rented              0\n",
       "family_size         0\n",
       "no_of_children    538\n",
       "income_bracket      0\n",
       "dtype: int64"
      ]
     },
     "execution_count": 32,
     "metadata": {},
     "output_type": "execute_result"
    }
   ],
   "source": [
    "customer_demo.isna().sum()"
   ]
  },
  {
   "cell_type": "code",
   "execution_count": 33,
   "metadata": {},
   "outputs": [
    {
     "data": {
      "text/html": [
       "<div>\n",
       "<style scoped>\n",
       "    .dataframe tbody tr th:only-of-type {\n",
       "        vertical-align: middle;\n",
       "    }\n",
       "\n",
       "    .dataframe tbody tr th {\n",
       "        vertical-align: top;\n",
       "    }\n",
       "\n",
       "    .dataframe thead th {\n",
       "        text-align: right;\n",
       "    }\n",
       "</style>\n",
       "<table border=\"1\" class=\"dataframe\">\n",
       "  <thead>\n",
       "    <tr style=\"text-align: right;\">\n",
       "      <th></th>\n",
       "      <th>marital_status</th>\n",
       "      <th>no_of_children</th>\n",
       "    </tr>\n",
       "  </thead>\n",
       "  <tbody>\n",
       "    <tr>\n",
       "      <th>0</th>\n",
       "      <td>Married</td>\n",
       "      <td>NaN</td>\n",
       "    </tr>\n",
       "    <tr>\n",
       "      <th>2</th>\n",
       "      <td>NaN</td>\n",
       "      <td>1</td>\n",
       "    </tr>\n",
       "    <tr>\n",
       "      <th>3</th>\n",
       "      <td>NaN</td>\n",
       "      <td>2</td>\n",
       "    </tr>\n",
       "    <tr>\n",
       "      <th>4</th>\n",
       "      <td>Single</td>\n",
       "      <td>NaN</td>\n",
       "    </tr>\n",
       "    <tr>\n",
       "      <th>10</th>\n",
       "      <td>NaN</td>\n",
       "      <td>NaN</td>\n",
       "    </tr>\n",
       "    <tr>\n",
       "      <th>16</th>\n",
       "      <td>Single</td>\n",
       "      <td>3+</td>\n",
       "    </tr>\n",
       "    <tr>\n",
       "      <th>17</th>\n",
       "      <td>Married</td>\n",
       "      <td>3+</td>\n",
       "    </tr>\n",
       "    <tr>\n",
       "      <th>22</th>\n",
       "      <td>Married</td>\n",
       "      <td>2</td>\n",
       "    </tr>\n",
       "    <tr>\n",
       "      <th>37</th>\n",
       "      <td>Single</td>\n",
       "      <td>2</td>\n",
       "    </tr>\n",
       "    <tr>\n",
       "      <th>54</th>\n",
       "      <td>Single</td>\n",
       "      <td>1</td>\n",
       "    </tr>\n",
       "    <tr>\n",
       "      <th>57</th>\n",
       "      <td>Married</td>\n",
       "      <td>1</td>\n",
       "    </tr>\n",
       "    <tr>\n",
       "      <th>103</th>\n",
       "      <td>NaN</td>\n",
       "      <td>3+</td>\n",
       "    </tr>\n",
       "  </tbody>\n",
       "</table>\n",
       "</div>"
      ],
      "text/plain": [
       "    marital_status no_of_children\n",
       "0          Married            NaN\n",
       "2              NaN              1\n",
       "3              NaN              2\n",
       "4           Single            NaN\n",
       "10             NaN            NaN\n",
       "16          Single             3+\n",
       "17         Married             3+\n",
       "22         Married              2\n",
       "37          Single              2\n",
       "54          Single              1\n",
       "57         Married              1\n",
       "103            NaN             3+"
      ]
     },
     "execution_count": 33,
     "metadata": {},
     "output_type": "execute_result"
    }
   ],
   "source": [
    "customer_demo[[\"marital_status\",\"no_of_children\"]].drop_duplicates()"
   ]
  },
  {
   "cell_type": "code",
   "execution_count": 34,
   "metadata": {},
   "outputs": [],
   "source": [
    "customer_demo=customer_demo.fillna(\"NoData\")"
   ]
  },
  {
   "cell_type": "code",
   "execution_count": 35,
   "metadata": {},
   "outputs": [],
   "source": [
    "customer_tran = pd.read_csv('customer_transaction_data.csv')"
   ]
  },
  {
   "cell_type": "code",
   "execution_count": 36,
   "metadata": {},
   "outputs": [],
   "source": [
    "customer_tran.date  = pd.to_datetime(customer_tran.date, format = '%Y-%m-%d').dt.date"
   ]
  },
  {
   "cell_type": "code",
   "execution_count": 37,
   "metadata": {},
   "outputs": [
    {
     "data": {
      "text/plain": [
       "548"
      ]
     },
     "execution_count": 37,
     "metadata": {},
     "output_type": "execute_result"
    }
   ],
   "source": [
    "(customer_tran.date.max() - customer_tran.date.min()).days"
   ]
  },
  {
   "cell_type": "code",
   "execution_count": 38,
   "metadata": {},
   "outputs": [
    {
     "data": {
      "text/plain": [
       "(1324566, 7)"
      ]
     },
     "execution_count": 38,
     "metadata": {},
     "output_type": "execute_result"
    }
   ],
   "source": [
    "customer_tran.shape"
   ]
  },
  {
   "cell_type": "code",
   "execution_count": 39,
   "metadata": {},
   "outputs": [
    {
     "data": {
      "text/html": [
       "<div>\n",
       "<style scoped>\n",
       "    .dataframe tbody tr th:only-of-type {\n",
       "        vertical-align: middle;\n",
       "    }\n",
       "\n",
       "    .dataframe tbody tr th {\n",
       "        vertical-align: top;\n",
       "    }\n",
       "\n",
       "    .dataframe thead th {\n",
       "        text-align: right;\n",
       "    }\n",
       "</style>\n",
       "<table border=\"1\" class=\"dataframe\">\n",
       "  <thead>\n",
       "    <tr style=\"text-align: right;\">\n",
       "      <th></th>\n",
       "      <th>date</th>\n",
       "      <th>customer_id</th>\n",
       "      <th>item_id</th>\n",
       "      <th>quantity</th>\n",
       "      <th>selling_price</th>\n",
       "      <th>other_discount</th>\n",
       "      <th>coupon_discount</th>\n",
       "    </tr>\n",
       "  </thead>\n",
       "  <tbody>\n",
       "    <tr>\n",
       "      <th>0</th>\n",
       "      <td>2012-01-02</td>\n",
       "      <td>1501</td>\n",
       "      <td>26830</td>\n",
       "      <td>1</td>\n",
       "      <td>35.26</td>\n",
       "      <td>-10.69</td>\n",
       "      <td>0.0</td>\n",
       "    </tr>\n",
       "    <tr>\n",
       "      <th>1</th>\n",
       "      <td>2012-01-02</td>\n",
       "      <td>1501</td>\n",
       "      <td>54253</td>\n",
       "      <td>1</td>\n",
       "      <td>53.43</td>\n",
       "      <td>-13.89</td>\n",
       "      <td>0.0</td>\n",
       "    </tr>\n",
       "  </tbody>\n",
       "</table>\n",
       "</div>"
      ],
      "text/plain": [
       "         date  customer_id  item_id  quantity  selling_price  other_discount  \\\n",
       "0  2012-01-02         1501    26830         1          35.26          -10.69   \n",
       "1  2012-01-02         1501    54253         1          53.43          -13.89   \n",
       "\n",
       "   coupon_discount  \n",
       "0              0.0  \n",
       "1              0.0  "
      ]
     },
     "execution_count": 39,
     "metadata": {},
     "output_type": "execute_result"
    }
   ],
   "source": [
    "customer_tran.head(2)"
   ]
  },
  {
   "cell_type": "code",
   "execution_count": 40,
   "metadata": {},
   "outputs": [
    {
     "data": {
      "text/plain": [
       "date               0\n",
       "customer_id        0\n",
       "item_id            0\n",
       "quantity           0\n",
       "selling_price      0\n",
       "other_discount     0\n",
       "coupon_discount    0\n",
       "dtype: int64"
      ]
     },
     "execution_count": 40,
     "metadata": {},
     "output_type": "execute_result"
    }
   ],
   "source": [
    "customer_tran.isna().sum()"
   ]
  },
  {
   "cell_type": "code",
   "execution_count": 41,
   "metadata": {},
   "outputs": [
    {
     "data": {
      "text/html": [
       "<div>\n",
       "<style scoped>\n",
       "    .dataframe tbody tr th:only-of-type {\n",
       "        vertical-align: middle;\n",
       "    }\n",
       "\n",
       "    .dataframe tbody tr th {\n",
       "        vertical-align: top;\n",
       "    }\n",
       "\n",
       "    .dataframe thead th {\n",
       "        text-align: right;\n",
       "    }\n",
       "</style>\n",
       "<table border=\"1\" class=\"dataframe\">\n",
       "  <thead>\n",
       "    <tr style=\"text-align: right;\">\n",
       "      <th></th>\n",
       "      <th>date</th>\n",
       "      <th>customer_id</th>\n",
       "      <th>item_id</th>\n",
       "      <th>quantity</th>\n",
       "      <th>selling_price</th>\n",
       "      <th>other_discount</th>\n",
       "      <th>coupon_discount</th>\n",
       "    </tr>\n",
       "  </thead>\n",
       "  <tbody>\n",
       "    <tr>\n",
       "      <th>0</th>\n",
       "      <td>2012-01-02</td>\n",
       "      <td>1501</td>\n",
       "      <td>26830</td>\n",
       "      <td>1</td>\n",
       "      <td>35.26</td>\n",
       "      <td>-10.69</td>\n",
       "      <td>0.0</td>\n",
       "    </tr>\n",
       "    <tr>\n",
       "      <th>1</th>\n",
       "      <td>2012-01-02</td>\n",
       "      <td>1501</td>\n",
       "      <td>54253</td>\n",
       "      <td>1</td>\n",
       "      <td>53.43</td>\n",
       "      <td>-13.89</td>\n",
       "      <td>0.0</td>\n",
       "    </tr>\n",
       "    <tr>\n",
       "      <th>2</th>\n",
       "      <td>2012-01-02</td>\n",
       "      <td>1501</td>\n",
       "      <td>31962</td>\n",
       "      <td>1</td>\n",
       "      <td>106.50</td>\n",
       "      <td>-14.25</td>\n",
       "      <td>0.0</td>\n",
       "    </tr>\n",
       "    <tr>\n",
       "      <th>3</th>\n",
       "      <td>2012-01-02</td>\n",
       "      <td>1501</td>\n",
       "      <td>33647</td>\n",
       "      <td>1</td>\n",
       "      <td>67.32</td>\n",
       "      <td>0.00</td>\n",
       "      <td>0.0</td>\n",
       "    </tr>\n",
       "    <tr>\n",
       "      <th>4</th>\n",
       "      <td>2012-01-02</td>\n",
       "      <td>1501</td>\n",
       "      <td>48199</td>\n",
       "      <td>1</td>\n",
       "      <td>71.24</td>\n",
       "      <td>-28.14</td>\n",
       "      <td>0.0</td>\n",
       "    </tr>\n",
       "  </tbody>\n",
       "</table>\n",
       "</div>"
      ],
      "text/plain": [
       "         date  customer_id  item_id  quantity  selling_price  other_discount  \\\n",
       "0  2012-01-02         1501    26830         1          35.26          -10.69   \n",
       "1  2012-01-02         1501    54253         1          53.43          -13.89   \n",
       "2  2012-01-02         1501    31962         1         106.50          -14.25   \n",
       "3  2012-01-02         1501    33647         1          67.32            0.00   \n",
       "4  2012-01-02         1501    48199         1          71.24          -28.14   \n",
       "\n",
       "   coupon_discount  \n",
       "0              0.0  \n",
       "1              0.0  \n",
       "2              0.0  \n",
       "3              0.0  \n",
       "4              0.0  "
      ]
     },
     "execution_count": 41,
     "metadata": {},
     "output_type": "execute_result"
    }
   ],
   "source": [
    "customer_tran.head()"
   ]
  },
  {
   "cell_type": "code",
   "execution_count": 42,
   "metadata": {},
   "outputs": [
    {
     "data": {
      "text/plain": [
       "0"
      ]
     },
     "execution_count": 42,
     "metadata": {},
     "output_type": "execute_result"
    }
   ],
   "source": [
    "len(list(set(customer_tran['item_id'].unique())-set(item_data['item_id'].unique())))"
   ]
  },
  {
   "cell_type": "code",
   "execution_count": 43,
   "metadata": {},
   "outputs": [
    {
     "data": {
      "text/plain": [
       "[1192, 42649, 70763]"
      ]
     },
     "execution_count": 43,
     "metadata": {},
     "output_type": "execute_result"
    }
   ],
   "source": [
    "list(set(item_data['item_id'].unique())-set(customer_tran['item_id'].unique()))\n",
    "#items never purchased"
   ]
  },
  {
   "cell_type": "code",
   "execution_count": 44,
   "metadata": {},
   "outputs": [
    {
     "data": {
      "text/html": [
       "<div>\n",
       "<style scoped>\n",
       "    .dataframe tbody tr th:only-of-type {\n",
       "        vertical-align: middle;\n",
       "    }\n",
       "\n",
       "    .dataframe tbody tr th {\n",
       "        vertical-align: top;\n",
       "    }\n",
       "\n",
       "    .dataframe thead th {\n",
       "        text-align: right;\n",
       "    }\n",
       "</style>\n",
       "<table border=\"1\" class=\"dataframe\">\n",
       "  <thead>\n",
       "    <tr style=\"text-align: right;\">\n",
       "      <th></th>\n",
       "      <th>customer_id</th>\n",
       "      <th>item_id</th>\n",
       "      <th>quantity</th>\n",
       "      <th>selling_price</th>\n",
       "      <th>other_discount</th>\n",
       "      <th>coupon_discount</th>\n",
       "    </tr>\n",
       "  </thead>\n",
       "  <tbody>\n",
       "    <tr>\n",
       "      <th>count</th>\n",
       "      <td>1.324566e+06</td>\n",
       "      <td>1.324566e+06</td>\n",
       "      <td>1.324566e+06</td>\n",
       "      <td>1.324566e+06</td>\n",
       "      <td>1.324566e+06</td>\n",
       "      <td>1.324566e+06</td>\n",
       "    </tr>\n",
       "    <tr>\n",
       "      <th>mean</th>\n",
       "      <td>8.040020e+02</td>\n",
       "      <td>2.951903e+04</td>\n",
       "      <td>1.306633e+02</td>\n",
       "      <td>1.146036e+02</td>\n",
       "      <td>-1.776871e+01</td>\n",
       "      <td>-5.948983e-01</td>\n",
       "    </tr>\n",
       "    <tr>\n",
       "      <th>std</th>\n",
       "      <td>4.573363e+02</td>\n",
       "      <td>1.790806e+04</td>\n",
       "      <td>1.311545e+03</td>\n",
       "      <td>1.529053e+02</td>\n",
       "      <td>3.788867e+01</td>\n",
       "      <td>7.069367e+00</td>\n",
       "    </tr>\n",
       "    <tr>\n",
       "      <th>min</th>\n",
       "      <td>1.000000e+00</td>\n",
       "      <td>1.000000e+00</td>\n",
       "      <td>1.000000e+00</td>\n",
       "      <td>3.600000e-01</td>\n",
       "      <td>-3.120310e+03</td>\n",
       "      <td>-1.992230e+03</td>\n",
       "    </tr>\n",
       "    <tr>\n",
       "      <th>25%</th>\n",
       "      <td>4.180000e+02</td>\n",
       "      <td>1.468400e+04</td>\n",
       "      <td>1.000000e+00</td>\n",
       "      <td>4.916000e+01</td>\n",
       "      <td>-2.315000e+01</td>\n",
       "      <td>0.000000e+00</td>\n",
       "    </tr>\n",
       "    <tr>\n",
       "      <th>50%</th>\n",
       "      <td>8.010000e+02</td>\n",
       "      <td>2.659700e+04</td>\n",
       "      <td>1.000000e+00</td>\n",
       "      <td>7.801000e+01</td>\n",
       "      <td>-1.780000e+00</td>\n",
       "      <td>0.000000e+00</td>\n",
       "    </tr>\n",
       "    <tr>\n",
       "      <th>75%</th>\n",
       "      <td>1.198000e+03</td>\n",
       "      <td>4.240575e+04</td>\n",
       "      <td>1.000000e+00</td>\n",
       "      <td>1.243100e+02</td>\n",
       "      <td>0.000000e+00</td>\n",
       "      <td>0.000000e+00</td>\n",
       "    </tr>\n",
       "    <tr>\n",
       "      <th>max</th>\n",
       "      <td>1.582000e+03</td>\n",
       "      <td>7.406600e+04</td>\n",
       "      <td>8.963800e+04</td>\n",
       "      <td>1.780964e+04</td>\n",
       "      <td>0.000000e+00</td>\n",
       "      <td>0.000000e+00</td>\n",
       "    </tr>\n",
       "  </tbody>\n",
       "</table>\n",
       "</div>"
      ],
      "text/plain": [
       "        customer_id       item_id      quantity  selling_price  \\\n",
       "count  1.324566e+06  1.324566e+06  1.324566e+06   1.324566e+06   \n",
       "mean   8.040020e+02  2.951903e+04  1.306633e+02   1.146036e+02   \n",
       "std    4.573363e+02  1.790806e+04  1.311545e+03   1.529053e+02   \n",
       "min    1.000000e+00  1.000000e+00  1.000000e+00   3.600000e-01   \n",
       "25%    4.180000e+02  1.468400e+04  1.000000e+00   4.916000e+01   \n",
       "50%    8.010000e+02  2.659700e+04  1.000000e+00   7.801000e+01   \n",
       "75%    1.198000e+03  4.240575e+04  1.000000e+00   1.243100e+02   \n",
       "max    1.582000e+03  7.406600e+04  8.963800e+04   1.780964e+04   \n",
       "\n",
       "       other_discount  coupon_discount  \n",
       "count    1.324566e+06     1.324566e+06  \n",
       "mean    -1.776871e+01    -5.948983e-01  \n",
       "std      3.788867e+01     7.069367e+00  \n",
       "min     -3.120310e+03    -1.992230e+03  \n",
       "25%     -2.315000e+01     0.000000e+00  \n",
       "50%     -1.780000e+00     0.000000e+00  \n",
       "75%      0.000000e+00     0.000000e+00  \n",
       "max      0.000000e+00     0.000000e+00  "
      ]
     },
     "execution_count": 44,
     "metadata": {},
     "output_type": "execute_result"
    }
   ],
   "source": [
    "customer_tran.describe()"
   ]
  },
  {
   "cell_type": "code",
   "execution_count": 45,
   "metadata": {},
   "outputs": [],
   "source": [
    "customer_tran = pd.merge(customer_tran, item_data, left_on= ['item_id'], right_on=['item_id'], how= 'left')"
   ]
  },
  {
   "cell_type": "code",
   "execution_count": 46,
   "metadata": {},
   "outputs": [],
   "source": [
    "customer_tran['total_price'] = customer_tran.quantity*customer_tran.selling_price"
   ]
  },
  {
   "cell_type": "code",
   "execution_count": 47,
   "metadata": {},
   "outputs": [
    {
     "data": {
      "text/plain": [
       "(1324566, 11)"
      ]
     },
     "execution_count": 47,
     "metadata": {},
     "output_type": "execute_result"
    }
   ],
   "source": [
    "customer_tran.shape"
   ]
  },
  {
   "cell_type": "code",
   "execution_count": 48,
   "metadata": {},
   "outputs": [],
   "source": [
    "customer_tran = customer_tran.sort_values(['customer_id', 'date'])"
   ]
  },
  {
   "cell_type": "code",
   "execution_count": 49,
   "metadata": {},
   "outputs": [
    {
     "data": {
      "text/html": [
       "<div>\n",
       "<style scoped>\n",
       "    .dataframe tbody tr th:only-of-type {\n",
       "        vertical-align: middle;\n",
       "    }\n",
       "\n",
       "    .dataframe tbody tr th {\n",
       "        vertical-align: top;\n",
       "    }\n",
       "\n",
       "    .dataframe thead th {\n",
       "        text-align: right;\n",
       "    }\n",
       "</style>\n",
       "<table border=\"1\" class=\"dataframe\">\n",
       "  <thead>\n",
       "    <tr style=\"text-align: right;\">\n",
       "      <th></th>\n",
       "      <th>date</th>\n",
       "      <th>customer_id</th>\n",
       "      <th>item_id</th>\n",
       "      <th>quantity</th>\n",
       "      <th>selling_price</th>\n",
       "      <th>other_discount</th>\n",
       "      <th>coupon_discount</th>\n",
       "      <th>brand</th>\n",
       "      <th>brand_type</th>\n",
       "      <th>category</th>\n",
       "      <th>total_price</th>\n",
       "    </tr>\n",
       "  </thead>\n",
       "  <tbody>\n",
       "    <tr>\n",
       "      <th>30179</th>\n",
       "      <td>2012-02-21</td>\n",
       "      <td>1</td>\n",
       "      <td>4953</td>\n",
       "      <td>1</td>\n",
       "      <td>142.12</td>\n",
       "      <td>0.00</td>\n",
       "      <td>0.0</td>\n",
       "      <td>1061</td>\n",
       "      <td>Established</td>\n",
       "      <td>Grocery</td>\n",
       "      <td>142.12</td>\n",
       "    </tr>\n",
       "    <tr>\n",
       "      <th>30180</th>\n",
       "      <td>2012-02-21</td>\n",
       "      <td>1</td>\n",
       "      <td>5626</td>\n",
       "      <td>1</td>\n",
       "      <td>106.50</td>\n",
       "      <td>0.00</td>\n",
       "      <td>0.0</td>\n",
       "      <td>278</td>\n",
       "      <td>Established</td>\n",
       "      <td>Grocery</td>\n",
       "      <td>106.50</td>\n",
       "    </tr>\n",
       "    <tr>\n",
       "      <th>30181</th>\n",
       "      <td>2012-02-21</td>\n",
       "      <td>1</td>\n",
       "      <td>7808</td>\n",
       "      <td>1</td>\n",
       "      <td>99.38</td>\n",
       "      <td>-42.74</td>\n",
       "      <td>0.0</td>\n",
       "      <td>56</td>\n",
       "      <td>Local</td>\n",
       "      <td>Grocery</td>\n",
       "      <td>99.38</td>\n",
       "    </tr>\n",
       "  </tbody>\n",
       "</table>\n",
       "</div>"
      ],
      "text/plain": [
       "             date  customer_id  item_id  quantity  selling_price  \\\n",
       "30179  2012-02-21            1     4953         1         142.12   \n",
       "30180  2012-02-21            1     5626         1         106.50   \n",
       "30181  2012-02-21            1     7808         1          99.38   \n",
       "\n",
       "       other_discount  coupon_discount  brand   brand_type category  \\\n",
       "30179            0.00              0.0   1061  Established  Grocery   \n",
       "30180            0.00              0.0    278  Established  Grocery   \n",
       "30181          -42.74              0.0     56        Local  Grocery   \n",
       "\n",
       "       total_price  \n",
       "30179       142.12  \n",
       "30180       106.50  \n",
       "30181        99.38  "
      ]
     },
     "execution_count": 49,
     "metadata": {},
     "output_type": "execute_result"
    }
   ],
   "source": [
    "customer_tran.head(3)"
   ]
  },
  {
   "cell_type": "code",
   "execution_count": 50,
   "metadata": {},
   "outputs": [],
   "source": [
    "#Customer frequency\n",
    "customer_tran_freq=customer_tran[[\"customer_id\",\"date\"]].drop_duplicates()"
   ]
  },
  {
   "cell_type": "code",
   "execution_count": 51,
   "metadata": {},
   "outputs": [],
   "source": [
    "shifted = customer_tran_freq.groupby(\"customer_id\").shift(-1)\n",
    "customer_tran_freq=customer_tran_freq.join(shifted.rename(columns=lambda x: x+\"_lag\"))"
   ]
  },
  {
   "cell_type": "code",
   "execution_count": 52,
   "metadata": {},
   "outputs": [],
   "source": [
    "customer_tran_freq=customer_tran_freq.dropna()"
   ]
  },
  {
   "cell_type": "code",
   "execution_count": 53,
   "metadata": {},
   "outputs": [
    {
     "data": {
      "text/html": [
       "<div>\n",
       "<style scoped>\n",
       "    .dataframe tbody tr th:only-of-type {\n",
       "        vertical-align: middle;\n",
       "    }\n",
       "\n",
       "    .dataframe tbody tr th {\n",
       "        vertical-align: top;\n",
       "    }\n",
       "\n",
       "    .dataframe thead th {\n",
       "        text-align: right;\n",
       "    }\n",
       "</style>\n",
       "<table border=\"1\" class=\"dataframe\">\n",
       "  <thead>\n",
       "    <tr style=\"text-align: right;\">\n",
       "      <th></th>\n",
       "      <th>customer_id</th>\n",
       "      <th>date</th>\n",
       "      <th>date_lag</th>\n",
       "    </tr>\n",
       "  </thead>\n",
       "  <tbody>\n",
       "    <tr>\n",
       "      <th>30179</th>\n",
       "      <td>1</td>\n",
       "      <td>2012-02-21</td>\n",
       "      <td>2012-03-08</td>\n",
       "    </tr>\n",
       "    <tr>\n",
       "      <th>46366</th>\n",
       "      <td>1</td>\n",
       "      <td>2012-03-08</td>\n",
       "      <td>2012-03-29</td>\n",
       "    </tr>\n",
       "    <tr>\n",
       "      <th>79938</th>\n",
       "      <td>1</td>\n",
       "      <td>2012-03-29</td>\n",
       "      <td>2012-04-04</td>\n",
       "    </tr>\n",
       "  </tbody>\n",
       "</table>\n",
       "</div>"
      ],
      "text/plain": [
       "       customer_id        date    date_lag\n",
       "30179            1  2012-02-21  2012-03-08\n",
       "46366            1  2012-03-08  2012-03-29\n",
       "79938            1  2012-03-29  2012-04-04"
      ]
     },
     "execution_count": 53,
     "metadata": {},
     "output_type": "execute_result"
    }
   ],
   "source": [
    "customer_tran_freq.head(3)"
   ]
  },
  {
   "cell_type": "code",
   "execution_count": 54,
   "metadata": {},
   "outputs": [],
   "source": [
    "customer_tran_freq[\"diff_days\"]=(customer_tran_freq[\"date_lag\"]-customer_tran_freq[\"date\"])/np.timedelta64(1, 'D')"
   ]
  },
  {
   "cell_type": "code",
   "execution_count": 55,
   "metadata": {},
   "outputs": [],
   "source": [
    "customer_tran_freq_1=pd.DataFrame(pd.DataFrame(customer_tran_freq.groupby(\"customer_id\").agg({\"diff_days\":['mean','max','min']})\n",
    "                                              ).to_records())"
   ]
  },
  {
   "cell_type": "code",
   "execution_count": 56,
   "metadata": {},
   "outputs": [
    {
     "data": {
      "text/html": [
       "<div>\n",
       "<style scoped>\n",
       "    .dataframe tbody tr th:only-of-type {\n",
       "        vertical-align: middle;\n",
       "    }\n",
       "\n",
       "    .dataframe tbody tr th {\n",
       "        vertical-align: top;\n",
       "    }\n",
       "\n",
       "    .dataframe thead th {\n",
       "        text-align: right;\n",
       "    }\n",
       "</style>\n",
       "<table border=\"1\" class=\"dataframe\">\n",
       "  <thead>\n",
       "    <tr style=\"text-align: right;\">\n",
       "      <th></th>\n",
       "      <th>customer_id</th>\n",
       "      <th>('diff_days', 'mean')</th>\n",
       "      <th>('diff_days', 'max')</th>\n",
       "      <th>('diff_days', 'min')</th>\n",
       "    </tr>\n",
       "  </thead>\n",
       "  <tbody>\n",
       "    <tr>\n",
       "      <th>0</th>\n",
       "      <td>1</td>\n",
       "      <td>9.000000</td>\n",
       "      <td>25.0</td>\n",
       "      <td>1.0</td>\n",
       "    </tr>\n",
       "    <tr>\n",
       "      <th>1</th>\n",
       "      <td>2</td>\n",
       "      <td>12.194444</td>\n",
       "      <td>70.0</td>\n",
       "      <td>1.0</td>\n",
       "    </tr>\n",
       "    <tr>\n",
       "      <th>2</th>\n",
       "      <td>3</td>\n",
       "      <td>10.475000</td>\n",
       "      <td>40.0</td>\n",
       "      <td>1.0</td>\n",
       "    </tr>\n",
       "  </tbody>\n",
       "</table>\n",
       "</div>"
      ],
      "text/plain": [
       "   customer_id  ('diff_days', 'mean')  ('diff_days', 'max')  \\\n",
       "0            1               9.000000                  25.0   \n",
       "1            2              12.194444                  70.0   \n",
       "2            3              10.475000                  40.0   \n",
       "\n",
       "   ('diff_days', 'min')  \n",
       "0                   1.0  \n",
       "1                   1.0  \n",
       "2                   1.0  "
      ]
     },
     "execution_count": 56,
     "metadata": {},
     "output_type": "execute_result"
    }
   ],
   "source": [
    "customer_tran_freq_1.head(3)"
   ]
  },
  {
   "cell_type": "code",
   "execution_count": 57,
   "metadata": {},
   "outputs": [],
   "source": [
    "customer_tran['date']=pd.to_datetime(customer_tran.date)"
   ]
  },
  {
   "cell_type": "code",
   "execution_count": 58,
   "metadata": {},
   "outputs": [
    {
     "data": {
      "text/html": [
       "<div>\n",
       "<style scoped>\n",
       "    .dataframe tbody tr th:only-of-type {\n",
       "        vertical-align: middle;\n",
       "    }\n",
       "\n",
       "    .dataframe tbody tr th {\n",
       "        vertical-align: top;\n",
       "    }\n",
       "\n",
       "    .dataframe thead th {\n",
       "        text-align: right;\n",
       "    }\n",
       "</style>\n",
       "<table border=\"1\" class=\"dataframe\">\n",
       "  <thead>\n",
       "    <tr style=\"text-align: right;\">\n",
       "      <th></th>\n",
       "      <th>Date</th>\n",
       "      <th>campaign_id</th>\n",
       "      <th>campaign_type</th>\n",
       "      <th>start_date</th>\n",
       "      <th>end_date</th>\n",
       "      <th>campaign_duration</th>\n",
       "      <th>season</th>\n",
       "    </tr>\n",
       "  </thead>\n",
       "  <tbody>\n",
       "    <tr>\n",
       "      <th>0</th>\n",
       "      <td>2013-10-21</td>\n",
       "      <td>24</td>\n",
       "      <td>Y</td>\n",
       "      <td>2013-10-21</td>\n",
       "      <td>2013-12-20</td>\n",
       "      <td>60</td>\n",
       "      <td>4</td>\n",
       "    </tr>\n",
       "    <tr>\n",
       "      <th>1</th>\n",
       "      <td>2013-10-22</td>\n",
       "      <td>24</td>\n",
       "      <td>Y</td>\n",
       "      <td>2013-10-21</td>\n",
       "      <td>2013-12-20</td>\n",
       "      <td>60</td>\n",
       "      <td>4</td>\n",
       "    </tr>\n",
       "    <tr>\n",
       "      <th>2</th>\n",
       "      <td>2013-10-23</td>\n",
       "      <td>24</td>\n",
       "      <td>Y</td>\n",
       "      <td>2013-10-21</td>\n",
       "      <td>2013-12-20</td>\n",
       "      <td>60</td>\n",
       "      <td>4</td>\n",
       "    </tr>\n",
       "  </tbody>\n",
       "</table>\n",
       "</div>"
      ],
      "text/plain": [
       "        Date  campaign_id campaign_type start_date   end_date  \\\n",
       "0 2013-10-21           24             Y 2013-10-21 2013-12-20   \n",
       "1 2013-10-22           24             Y 2013-10-21 2013-12-20   \n",
       "2 2013-10-23           24             Y 2013-10-21 2013-12-20   \n",
       "\n",
       "   campaign_duration  season  \n",
       "0                 60       4  \n",
       "1                 60       4  \n",
       "2                 60       4  "
      ]
     },
     "execution_count": 58,
     "metadata": {},
     "output_type": "execute_result"
    }
   ],
   "source": [
    "Campaign_Data_Seq.head(3)"
   ]
  },
  {
   "cell_type": "code",
   "execution_count": 59,
   "metadata": {},
   "outputs": [],
   "source": [
    "#Campaingn Details\n",
    "customer_main_lfd = customer_tran.groupby(['customer_id']).apply(lambda x: pd.Series({\n",
    "    'no_Shopped_days' : (x['date']).nunique(),\n",
    "    'no_shopped_items': x['item_id'].nunique(),\n",
    "    'no_shopped_brands' : x['brand'].nunique(),\n",
    "    'no_shopped_category' : x['category'].nunique(),\n",
    "    'total_quantity_shopped': x['quantity'].sum(),\n",
    "    'total_selling_price': x['selling_price'].sum(),\n",
    "    'total_shopped_price': x['total_price'].sum(),\n",
    "    'value_other_discont': x['other_discount'].sum(),\n",
    "    'value_coupon_discount': x['coupon_discount'].sum()\n",
    "  \n",
    "})).reset_index()"
   ]
  },
  {
   "cell_type": "code",
   "execution_count": 60,
   "metadata": {},
   "outputs": [],
   "source": [
    "customer_tran_campaign=pd.merge(customer_tran,Campaign_Data_Seq,left_on=\"date\",right_on=\"Date\",how=\"left\")"
   ]
  },
  {
   "cell_type": "code",
   "execution_count": 61,
   "metadata": {},
   "outputs": [
    {
     "data": {
      "text/plain": [
       "date                      0\n",
       "customer_id               0\n",
       "item_id                   0\n",
       "quantity                  0\n",
       "selling_price             0\n",
       "other_discount            0\n",
       "coupon_discount           0\n",
       "brand                     0\n",
       "brand_type                0\n",
       "category                  0\n",
       "total_price               0\n",
       "Date                 420209\n",
       "campaign_id          420209\n",
       "campaign_type        420209\n",
       "start_date           420209\n",
       "end_date             420209\n",
       "campaign_duration    420209\n",
       "season               420209\n",
       "dtype: int64"
      ]
     },
     "execution_count": 61,
     "metadata": {},
     "output_type": "execute_result"
    }
   ],
   "source": [
    "customer_tran_campaign.isna().sum()"
   ]
  },
  {
   "cell_type": "code",
   "execution_count": 62,
   "metadata": {},
   "outputs": [
    {
     "data": {
      "text/plain": [
       "(2573793, 18)"
      ]
     },
     "execution_count": 62,
     "metadata": {},
     "output_type": "execute_result"
    }
   ],
   "source": [
    "customer_tran_campaign.shape"
   ]
  },
  {
   "cell_type": "code",
   "execution_count": 63,
   "metadata": {},
   "outputs": [],
   "source": [
    "customer_tran_campaign=customer_tran_campaign.dropna()"
   ]
  },
  {
   "cell_type": "code",
   "execution_count": 64,
   "metadata": {},
   "outputs": [],
   "source": [
    "#Campaingn Details\n",
    "customer_main_campaingn = customer_tran_campaign.groupby(['customer_id',\n",
    "                                                          \"campaign_type\"]).apply(lambda x: pd.Series({\n",
    "    'no_Shopped_days' : (x['date']).nunique(),\n",
    "    'no_shopped_items': x['item_id'].nunique(),\n",
    "    'no_shopped_brands' : x['brand'].nunique(),\n",
    "    'no_shopped_category' : x['category'].nunique(),\n",
    "    'total_quantity_shopped': x['quantity'].sum(),\n",
    "    'total_selling_price': x['selling_price'].sum(),\n",
    "    'total_shopped_price': x['total_price'].sum(),\n",
    "    'value_other_discont': x['other_discount'].sum(),\n",
    "    'value_coupon_discount': x['coupon_discount'].sum()\n",
    "  \n",
    "})).reset_index()"
   ]
  },
  {
   "cell_type": "code",
   "execution_count": 65,
   "metadata": {},
   "outputs": [],
   "source": [
    "customer_main_campaingn_affinity=pd.merge(customer_main_campaingn,customer_main_lfd,on='customer_id',how='left')"
   ]
  },
  {
   "cell_type": "code",
   "execution_count": 66,
   "metadata": {},
   "outputs": [
    {
     "data": {
      "text/html": [
       "<div>\n",
       "<style scoped>\n",
       "    .dataframe tbody tr th:only-of-type {\n",
       "        vertical-align: middle;\n",
       "    }\n",
       "\n",
       "    .dataframe tbody tr th {\n",
       "        vertical-align: top;\n",
       "    }\n",
       "\n",
       "    .dataframe thead th {\n",
       "        text-align: right;\n",
       "    }\n",
       "</style>\n",
       "<table border=\"1\" class=\"dataframe\">\n",
       "  <thead>\n",
       "    <tr style=\"text-align: right;\">\n",
       "      <th></th>\n",
       "      <th>customer_id</th>\n",
       "      <th>campaign_type</th>\n",
       "      <th>no_Shopped_days_x</th>\n",
       "      <th>no_shopped_items_x</th>\n",
       "      <th>no_shopped_brands_x</th>\n",
       "      <th>no_shopped_category_x</th>\n",
       "      <th>total_quantity_shopped_x</th>\n",
       "      <th>total_selling_price_x</th>\n",
       "      <th>total_shopped_price_x</th>\n",
       "      <th>value_other_discont_x</th>\n",
       "      <th>value_coupon_discount_x</th>\n",
       "      <th>no_Shopped_days_y</th>\n",
       "      <th>no_shopped_items_y</th>\n",
       "      <th>no_shopped_brands_y</th>\n",
       "      <th>no_shopped_category_y</th>\n",
       "      <th>total_quantity_shopped_y</th>\n",
       "      <th>total_selling_price_y</th>\n",
       "      <th>total_shopped_price_y</th>\n",
       "      <th>value_other_discont_y</th>\n",
       "      <th>value_coupon_discount_y</th>\n",
       "    </tr>\n",
       "  </thead>\n",
       "  <tbody>\n",
       "    <tr>\n",
       "      <th>0</th>\n",
       "      <td>1</td>\n",
       "      <td>X</td>\n",
       "      <td>22.0</td>\n",
       "      <td>260.0</td>\n",
       "      <td>115.0</td>\n",
       "      <td>8.0</td>\n",
       "      <td>508.0</td>\n",
       "      <td>41546.83</td>\n",
       "      <td>52208.60</td>\n",
       "      <td>-7074.68</td>\n",
       "      <td>-1037.95</td>\n",
       "      <td>56.0</td>\n",
       "      <td>463.0</td>\n",
       "      <td>163.0</td>\n",
       "      <td>9.0</td>\n",
       "      <td>1227.0</td>\n",
       "      <td>98513.93</td>\n",
       "      <td>123948.40</td>\n",
       "      <td>-17030.40</td>\n",
       "      <td>-2116.83</td>\n",
       "    </tr>\n",
       "    <tr>\n",
       "      <th>1</th>\n",
       "      <td>1</td>\n",
       "      <td>Y</td>\n",
       "      <td>29.0</td>\n",
       "      <td>298.0</td>\n",
       "      <td>121.0</td>\n",
       "      <td>8.0</td>\n",
       "      <td>1547.0</td>\n",
       "      <td>121640.02</td>\n",
       "      <td>151298.61</td>\n",
       "      <td>-19874.97</td>\n",
       "      <td>-4286.06</td>\n",
       "      <td>56.0</td>\n",
       "      <td>463.0</td>\n",
       "      <td>163.0</td>\n",
       "      <td>9.0</td>\n",
       "      <td>1227.0</td>\n",
       "      <td>98513.93</td>\n",
       "      <td>123948.40</td>\n",
       "      <td>-17030.40</td>\n",
       "      <td>-2116.83</td>\n",
       "    </tr>\n",
       "    <tr>\n",
       "      <th>2</th>\n",
       "      <td>2</td>\n",
       "      <td>X</td>\n",
       "      <td>10.0</td>\n",
       "      <td>122.0</td>\n",
       "      <td>67.0</td>\n",
       "      <td>7.0</td>\n",
       "      <td>157.0</td>\n",
       "      <td>14908.72</td>\n",
       "      <td>19137.18</td>\n",
       "      <td>-1599.34</td>\n",
       "      <td>-71.24</td>\n",
       "      <td>37.0</td>\n",
       "      <td>352.0</td>\n",
       "      <td>153.0</td>\n",
       "      <td>9.0</td>\n",
       "      <td>474.0</td>\n",
       "      <td>43100.03</td>\n",
       "      <td>52822.88</td>\n",
       "      <td>-7051.95</td>\n",
       "      <td>-249.34</td>\n",
       "    </tr>\n",
       "  </tbody>\n",
       "</table>\n",
       "</div>"
      ],
      "text/plain": [
       "   customer_id campaign_type  no_Shopped_days_x  no_shopped_items_x  \\\n",
       "0            1             X               22.0               260.0   \n",
       "1            1             Y               29.0               298.0   \n",
       "2            2             X               10.0               122.0   \n",
       "\n",
       "   no_shopped_brands_x  no_shopped_category_x  total_quantity_shopped_x  \\\n",
       "0                115.0                    8.0                     508.0   \n",
       "1                121.0                    8.0                    1547.0   \n",
       "2                 67.0                    7.0                     157.0   \n",
       "\n",
       "   total_selling_price_x  total_shopped_price_x  value_other_discont_x  \\\n",
       "0               41546.83               52208.60               -7074.68   \n",
       "1              121640.02              151298.61              -19874.97   \n",
       "2               14908.72               19137.18               -1599.34   \n",
       "\n",
       "   value_coupon_discount_x  no_Shopped_days_y  no_shopped_items_y  \\\n",
       "0                 -1037.95               56.0               463.0   \n",
       "1                 -4286.06               56.0               463.0   \n",
       "2                   -71.24               37.0               352.0   \n",
       "\n",
       "   no_shopped_brands_y  no_shopped_category_y  total_quantity_shopped_y  \\\n",
       "0                163.0                    9.0                    1227.0   \n",
       "1                163.0                    9.0                    1227.0   \n",
       "2                153.0                    9.0                     474.0   \n",
       "\n",
       "   total_selling_price_y  total_shopped_price_y  value_other_discont_y  \\\n",
       "0               98513.93              123948.40              -17030.40   \n",
       "1               98513.93              123948.40              -17030.40   \n",
       "2               43100.03               52822.88               -7051.95   \n",
       "\n",
       "   value_coupon_discount_y  \n",
       "0                 -2116.83  \n",
       "1                 -2116.83  \n",
       "2                  -249.34  "
      ]
     },
     "execution_count": 66,
     "metadata": {},
     "output_type": "execute_result"
    }
   ],
   "source": [
    "customer_main_campaingn_affinity.head(3)"
   ]
  },
  {
   "cell_type": "code",
   "execution_count": 67,
   "metadata": {},
   "outputs": [],
   "source": [
    "customer_main_campaingn_affinity['no_Shopped_days_aff']=customer_main_campaingn_affinity['no_Shopped_days_x']/customer_main_campaingn_affinity['no_Shopped_days_y']\n",
    "customer_main_campaingn_affinity['no_shopped_items_aff']=customer_main_campaingn_affinity['no_shopped_items_x']/customer_main_campaingn_affinity['no_shopped_items_y']\n",
    "customer_main_campaingn_affinity['no_shopped_brands_aff']=customer_main_campaingn_affinity['no_shopped_brands_x']/customer_main_campaingn_affinity['no_shopped_brands_y']\n",
    "customer_main_campaingn_affinity['no_shopped_category_aff']=customer_main_campaingn_affinity['no_shopped_category_x']/customer_main_campaingn_affinity['no_shopped_category_y']\n",
    "customer_main_campaingn_affinity['total_quantity_shopped_aff']=customer_main_campaingn_affinity['total_quantity_shopped_x']/customer_main_campaingn_affinity['total_quantity_shopped_y']\n",
    "customer_main_campaingn_affinity['total_selling_price_aff']=customer_main_campaingn_affinity['total_selling_price_x']/customer_main_campaingn_affinity['total_selling_price_y']\n",
    "customer_main_campaingn_affinity['total_shopped_price_aff']=customer_main_campaingn_affinity['total_shopped_price_x']/customer_main_campaingn_affinity['total_shopped_price_y']\n",
    "customer_main_campaingn_affinity['value_other_discont_aff']=customer_main_campaingn_affinity['value_other_discont_x']/customer_main_campaingn_affinity['value_other_discont_y']\n",
    "customer_main_campaingn_affinity['value_coupon_discount_aff']=customer_main_campaingn_affinity['value_coupon_discount_x']/customer_main_campaingn_affinity['value_coupon_discount_y']"
   ]
  },
  {
   "cell_type": "code",
   "execution_count": 68,
   "metadata": {},
   "outputs": [],
   "source": [
    "customer_main_campaingn_affinity=customer_main_campaingn_affinity[['customer_id','campaign_type','no_Shopped_days_aff',\n",
    "                                                                  'no_shopped_items_aff','no_shopped_brands_aff','no_shopped_category_aff',\n",
    "                                                                  'total_quantity_shopped_aff','total_selling_price_aff','total_shopped_price_aff',\n",
    "                                                                  'value_other_discont_aff','value_coupon_discount_aff']]"
   ]
  },
  {
   "cell_type": "code",
   "execution_count": 69,
   "metadata": {},
   "outputs": [
    {
     "data": {
      "text/plain": [
       "Index(['customer_id', 'campaign_type', 'no_Shopped_days_aff',\n",
       "       'no_shopped_items_aff', 'no_shopped_brands_aff',\n",
       "       'no_shopped_category_aff', 'total_quantity_shopped_aff',\n",
       "       'total_selling_price_aff', 'total_shopped_price_aff',\n",
       "       'value_other_discont_aff', 'value_coupon_discount_aff'],\n",
       "      dtype='object')"
      ]
     },
     "execution_count": 69,
     "metadata": {},
     "output_type": "execute_result"
    }
   ],
   "source": [
    "customer_main_campaingn_affinity.columns"
   ]
  },
  {
   "cell_type": "markdown",
   "metadata": {},
   "source": [
    "customer_main_campaingn_pivot=pd.DataFrame(pd.pivot_table(customer_main_campaingn,index=[\"customer_id\",\"campaign_id\",\n",
    "                                                                                         \"season\",\"campaign_type\",\n",
    "                                                                                         \"campaign_duration\"],\n",
    "                                                          columns=[\"brand_type\"],values=['no_Shopped_days',\n",
    "                                                                                                             'no_shopped_items', 'no_shopped_brands', \n",
    "                                                                                                             'no_shopped_category','total_quantity_shopped', \n",
    "                                                                                                             'total_selling_price', 'total_shopped_price',\n",
    "                                                                                                             'value_other_discont', 'value_coupon_discount'],\n",
    "                                                          aggfunc=np.sum,fill_value=0).to_records())"
   ]
  },
  {
   "cell_type": "markdown",
   "metadata": {},
   "source": [
    "customer_main_campaingn_pivot.head(3)"
   ]
  },
  {
   "cell_type": "code",
   "execution_count": 84,
   "metadata": {},
   "outputs": [
    {
     "data": {
      "text/plain": [
       "(1324566, 11)"
      ]
     },
     "execution_count": 84,
     "metadata": {},
     "output_type": "execute_result"
    }
   ],
   "source": [
    "customer_tran.shape"
   ]
  },
  {
   "cell_type": "code",
   "execution_count": 85,
   "metadata": {},
   "outputs": [],
   "source": [
    "customer_tran_coupon=pd.merge(customer_tran,coupon_item,on=\"item_id\",how=\"left\")"
   ]
  },
  {
   "cell_type": "code",
   "execution_count": 86,
   "metadata": {},
   "outputs": [
    {
     "data": {
      "text/plain": [
       "(2657495, 12)"
      ]
     },
     "execution_count": 86,
     "metadata": {},
     "output_type": "execute_result"
    }
   ],
   "source": [
    "customer_tran_coupon.shape"
   ]
  },
  {
   "cell_type": "code",
   "execution_count": 87,
   "metadata": {},
   "outputs": [
    {
     "data": {
      "text/plain": [
       "date                    0\n",
       "customer_id             0\n",
       "item_id                 0\n",
       "quantity                0\n",
       "selling_price           0\n",
       "other_discount          0\n",
       "coupon_discount         0\n",
       "brand                   0\n",
       "brand_type              0\n",
       "category                0\n",
       "total_price             0\n",
       "coupon_id          556134\n",
       "dtype: int64"
      ]
     },
     "execution_count": 87,
     "metadata": {},
     "output_type": "execute_result"
    }
   ],
   "source": [
    "customer_tran_coupon.isna().sum()"
   ]
  },
  {
   "cell_type": "code",
   "execution_count": 88,
   "metadata": {},
   "outputs": [],
   "source": [
    "customer_tran_coupon=customer_tran_coupon.fillna(\"NoCoupon\")"
   ]
  },
  {
   "cell_type": "code",
   "execution_count": 89,
   "metadata": {},
   "outputs": [],
   "source": [
    "customer_main_coupon = customer_tran_coupon.groupby(['customer_id',\"coupon_id\",\"brand_type\"]).apply(lambda x: pd.Series({\n",
    "    'no_Shopped_days' : (x['date']).nunique(),\n",
    "    'no_shopped_items': x['item_id'].nunique(),\n",
    "    'no_shopped_brands' : x['brand'].nunique(),\n",
    "    'no_shopped_category' : x['category'].nunique(),\n",
    "    'total_quantity_shopped': x['quantity'].sum(),\n",
    "    'total_selling_price': x['selling_price'].sum(),\n",
    "    'total_shopped_price': x['total_price'].sum(),\n",
    "    'value_other_discont': x['other_discount'].sum(),\n",
    "    'value_coupon_discount': x['coupon_discount'].sum()\n",
    "  \n",
    "})).reset_index()"
   ]
  },
  {
   "cell_type": "code",
   "execution_count": 90,
   "metadata": {},
   "outputs": [],
   "source": [
    "customer_main_coupon_pivot=pd.DataFrame(pd.pivot_table(customer_main_coupon,index=[\"customer_id\",\"coupon_id\"],\n",
    "                                                          columns=[\"brand_type\"],values=['no_Shopped_days',\n",
    "                                                                                                     'no_shopped_items', 'no_shopped_brands',\n",
    "                                                                                                     'no_shopped_category','total_quantity_shopped',\n",
    "                                                                                                     'total_selling_price', 'total_shopped_price',\n",
    "                                                                                                     'value_other_discont', 'value_coupon_discount'],\n",
    "                                                          aggfunc=np.sum,fill_value=0).to_records())"
   ]
  },
  {
   "cell_type": "code",
   "execution_count": 91,
   "metadata": {},
   "outputs": [
    {
     "data": {
      "text/html": [
       "<div>\n",
       "<style scoped>\n",
       "    .dataframe tbody tr th:only-of-type {\n",
       "        vertical-align: middle;\n",
       "    }\n",
       "\n",
       "    .dataframe tbody tr th {\n",
       "        vertical-align: top;\n",
       "    }\n",
       "\n",
       "    .dataframe thead th {\n",
       "        text-align: right;\n",
       "    }\n",
       "</style>\n",
       "<table border=\"1\" class=\"dataframe\">\n",
       "  <thead>\n",
       "    <tr style=\"text-align: right;\">\n",
       "      <th></th>\n",
       "      <th>coupon_id</th>\n",
       "      <th>item_id</th>\n",
       "      <th>brand</th>\n",
       "      <th>brand_type</th>\n",
       "      <th>category</th>\n",
       "    </tr>\n",
       "  </thead>\n",
       "  <tbody>\n",
       "    <tr>\n",
       "      <th>0</th>\n",
       "      <td>105</td>\n",
       "      <td>37</td>\n",
       "      <td>56</td>\n",
       "      <td>Local</td>\n",
       "      <td>Grocery</td>\n",
       "    </tr>\n",
       "    <tr>\n",
       "      <th>1</th>\n",
       "      <td>6</td>\n",
       "      <td>37</td>\n",
       "      <td>56</td>\n",
       "      <td>Local</td>\n",
       "      <td>Grocery</td>\n",
       "    </tr>\n",
       "    <tr>\n",
       "      <th>2</th>\n",
       "      <td>22</td>\n",
       "      <td>37</td>\n",
       "      <td>56</td>\n",
       "      <td>Local</td>\n",
       "      <td>Grocery</td>\n",
       "    </tr>\n",
       "  </tbody>\n",
       "</table>\n",
       "</div>"
      ],
      "text/plain": [
       "  coupon_id  item_id  brand brand_type category\n",
       "0       105       37     56      Local  Grocery\n",
       "1         6       37     56      Local  Grocery\n",
       "2        22       37     56      Local  Grocery"
      ]
     },
     "execution_count": 91,
     "metadata": {},
     "output_type": "execute_result"
    }
   ],
   "source": [
    "#CustomerCouponSimilarity\n",
    "coupon_item_2.head(3)"
   ]
  },
  {
   "cell_type": "code",
   "execution_count": 92,
   "metadata": {},
   "outputs": [],
   "source": [
    "coupon_item_list=pd.DataFrame(pd.DataFrame(coupon_item.groupby(\"coupon_id\")[\"item_id\"].apply(list)).to_records())\n",
    "coupon_brand_list=pd.DataFrame(pd.DataFrame(coupon_item_2[[\"coupon_id\",\"brand\"]].drop_duplicates().groupby(\"coupon_id\")[\"brand\"].apply(list)).to_records())"
   ]
  },
  {
   "cell_type": "code",
   "execution_count": 93,
   "metadata": {},
   "outputs": [
    {
     "data": {
      "text/plain": [
       "(1116, 2)"
      ]
     },
     "execution_count": 93,
     "metadata": {},
     "output_type": "execute_result"
    }
   ],
   "source": [
    "coupon_item_list.shape"
   ]
  },
  {
   "cell_type": "code",
   "execution_count": 94,
   "metadata": {},
   "outputs": [],
   "source": [
    "customer_item_list=pd.DataFrame(pd.DataFrame(customer_tran[[\"customer_id\",\"item_id\"]].drop_duplicates().groupby(\"customer_id\")[\"item_id\"].apply(list)).to_records())\n",
    "customer_brand_list=pd.DataFrame(pd.DataFrame(customer_tran[[\"customer_id\",\"brand\"]].drop_duplicates().groupby(\"customer_id\")[\"brand\"].apply(list)).to_records())"
   ]
  },
  {
   "cell_type": "code",
   "execution_count": 95,
   "metadata": {},
   "outputs": [
    {
     "data": {
      "text/plain": [
       "(1582, 2)"
      ]
     },
     "execution_count": 95,
     "metadata": {},
     "output_type": "execute_result"
    }
   ],
   "source": [
    "customer_item_list.shape"
   ]
  },
  {
   "cell_type": "code",
   "execution_count": 96,
   "metadata": {},
   "outputs": [
    {
     "data": {
      "text/plain": [
       "(1582, 2)"
      ]
     },
     "execution_count": 96,
     "metadata": {},
     "output_type": "execute_result"
    }
   ],
   "source": [
    "customer_brand_list.shape"
   ]
  },
  {
   "cell_type": "code",
   "execution_count": 97,
   "metadata": {},
   "outputs": [
    {
     "data": {
      "text/html": [
       "<div>\n",
       "<style scoped>\n",
       "    .dataframe tbody tr th:only-of-type {\n",
       "        vertical-align: middle;\n",
       "    }\n",
       "\n",
       "    .dataframe tbody tr th {\n",
       "        vertical-align: top;\n",
       "    }\n",
       "\n",
       "    .dataframe thead th {\n",
       "        text-align: right;\n",
       "    }\n",
       "</style>\n",
       "<table border=\"1\" class=\"dataframe\">\n",
       "  <thead>\n",
       "    <tr style=\"text-align: right;\">\n",
       "      <th></th>\n",
       "      <th>customer_id</th>\n",
       "      <th>item_id</th>\n",
       "    </tr>\n",
       "  </thead>\n",
       "  <tbody>\n",
       "    <tr>\n",
       "      <th>0</th>\n",
       "      <td>1</td>\n",
       "      <td>[4953, 5626, 7808, 8107, 8307, 14054, 17047, 1...</td>\n",
       "    </tr>\n",
       "    <tr>\n",
       "      <th>1</th>\n",
       "      <td>2</td>\n",
       "      <td>[31095, 45231, 45266, 45393, 45502, 7229, 1272...</td>\n",
       "    </tr>\n",
       "    <tr>\n",
       "      <th>2</th>\n",
       "      <td>3</td>\n",
       "      <td>[10975, 13174, 14978, 16086, 16708, 18156, 195...</td>\n",
       "    </tr>\n",
       "  </tbody>\n",
       "</table>\n",
       "</div>"
      ],
      "text/plain": [
       "   customer_id                                            item_id\n",
       "0            1  [4953, 5626, 7808, 8107, 8307, 14054, 17047, 1...\n",
       "1            2  [31095, 45231, 45266, 45393, 45502, 7229, 1272...\n",
       "2            3  [10975, 13174, 14978, 16086, 16708, 18156, 195..."
      ]
     },
     "execution_count": 97,
     "metadata": {},
     "output_type": "execute_result"
    }
   ],
   "source": [
    "customer_item_list.head(3)"
   ]
  },
  {
   "cell_type": "code",
   "execution_count": 98,
   "metadata": {},
   "outputs": [
    {
     "data": {
      "text/html": [
       "<div>\n",
       "<style scoped>\n",
       "    .dataframe tbody tr th:only-of-type {\n",
       "        vertical-align: middle;\n",
       "    }\n",
       "\n",
       "    .dataframe tbody tr th {\n",
       "        vertical-align: top;\n",
       "    }\n",
       "\n",
       "    .dataframe thead th {\n",
       "        text-align: right;\n",
       "    }\n",
       "</style>\n",
       "<table border=\"1\" class=\"dataframe\">\n",
       "  <thead>\n",
       "    <tr style=\"text-align: right;\">\n",
       "      <th></th>\n",
       "      <th>coupon_id</th>\n",
       "      <th>item_id</th>\n",
       "    </tr>\n",
       "  </thead>\n",
       "  <tbody>\n",
       "    <tr>\n",
       "      <th>0</th>\n",
       "      <td>1</td>\n",
       "      <td>[60068, 50199, 17091, 44112, 44868, 51028, 592...</td>\n",
       "    </tr>\n",
       "    <tr>\n",
       "      <th>1</th>\n",
       "      <td>2</td>\n",
       "      <td>[2581, 12901]</td>\n",
       "    </tr>\n",
       "    <tr>\n",
       "      <th>2</th>\n",
       "      <td>3</td>\n",
       "      <td>[58906, 58943, 58944, 58946, 58964, 58972, 590...</td>\n",
       "    </tr>\n",
       "  </tbody>\n",
       "</table>\n",
       "</div>"
      ],
      "text/plain": [
       "   coupon_id                                            item_id\n",
       "0          1  [60068, 50199, 17091, 44112, 44868, 51028, 592...\n",
       "1          2                                      [2581, 12901]\n",
       "2          3  [58906, 58943, 58944, 58946, 58964, 58972, 590..."
      ]
     },
     "execution_count": 98,
     "metadata": {},
     "output_type": "execute_result"
    }
   ],
   "source": [
    "coupon_item_list.head(3)"
   ]
  },
  {
   "cell_type": "code",
   "execution_count": 99,
   "metadata": {},
   "outputs": [],
   "source": [
    "coupon_item_list['match']='a'\n",
    "customer_item_list['match']='a'\n",
    "coupon_brand_list['match_brand']=\"b\"\n",
    "customer_brand_list['match_brand']='b'"
   ]
  },
  {
   "cell_type": "code",
   "execution_count": 100,
   "metadata": {},
   "outputs": [],
   "source": [
    "coupon_item_list_a=pd.merge(coupon_item_list,customer_item_list,left_on='match',right_on='match',how='left')"
   ]
  },
  {
   "cell_type": "code",
   "execution_count": 101,
   "metadata": {},
   "outputs": [
    {
     "data": {
      "text/plain": [
       "(1765512, 5)"
      ]
     },
     "execution_count": 101,
     "metadata": {},
     "output_type": "execute_result"
    }
   ],
   "source": [
    "coupon_item_list_a.shape"
   ]
  },
  {
   "cell_type": "code",
   "execution_count": 102,
   "metadata": {},
   "outputs": [
    {
     "data": {
      "text/html": [
       "<div>\n",
       "<style scoped>\n",
       "    .dataframe tbody tr th:only-of-type {\n",
       "        vertical-align: middle;\n",
       "    }\n",
       "\n",
       "    .dataframe tbody tr th {\n",
       "        vertical-align: top;\n",
       "    }\n",
       "\n",
       "    .dataframe thead th {\n",
       "        text-align: right;\n",
       "    }\n",
       "</style>\n",
       "<table border=\"1\" class=\"dataframe\">\n",
       "  <thead>\n",
       "    <tr style=\"text-align: right;\">\n",
       "      <th></th>\n",
       "      <th>coupon_id</th>\n",
       "      <th>item_id_x</th>\n",
       "      <th>match</th>\n",
       "      <th>customer_id</th>\n",
       "      <th>item_id_y</th>\n",
       "    </tr>\n",
       "  </thead>\n",
       "  <tbody>\n",
       "    <tr>\n",
       "      <th>0</th>\n",
       "      <td>1</td>\n",
       "      <td>[60068, 50199, 17091, 44112, 44868, 51028, 592...</td>\n",
       "      <td>a</td>\n",
       "      <td>1</td>\n",
       "      <td>[4953, 5626, 7808, 8107, 8307, 14054, 17047, 1...</td>\n",
       "    </tr>\n",
       "    <tr>\n",
       "      <th>1</th>\n",
       "      <td>1</td>\n",
       "      <td>[60068, 50199, 17091, 44112, 44868, 51028, 592...</td>\n",
       "      <td>a</td>\n",
       "      <td>2</td>\n",
       "      <td>[31095, 45231, 45266, 45393, 45502, 7229, 1272...</td>\n",
       "    </tr>\n",
       "    <tr>\n",
       "      <th>2</th>\n",
       "      <td>1</td>\n",
       "      <td>[60068, 50199, 17091, 44112, 44868, 51028, 592...</td>\n",
       "      <td>a</td>\n",
       "      <td>3</td>\n",
       "      <td>[10975, 13174, 14978, 16086, 16708, 18156, 195...</td>\n",
       "    </tr>\n",
       "  </tbody>\n",
       "</table>\n",
       "</div>"
      ],
      "text/plain": [
       "   coupon_id                                          item_id_x match  \\\n",
       "0          1  [60068, 50199, 17091, 44112, 44868, 51028, 592...     a   \n",
       "1          1  [60068, 50199, 17091, 44112, 44868, 51028, 592...     a   \n",
       "2          1  [60068, 50199, 17091, 44112, 44868, 51028, 592...     a   \n",
       "\n",
       "   customer_id                                          item_id_y  \n",
       "0            1  [4953, 5626, 7808, 8107, 8307, 14054, 17047, 1...  \n",
       "1            2  [31095, 45231, 45266, 45393, 45502, 7229, 1272...  \n",
       "2            3  [10975, 13174, 14978, 16086, 16708, 18156, 195...  "
      ]
     },
     "execution_count": 102,
     "metadata": {},
     "output_type": "execute_result"
    }
   ],
   "source": [
    "coupon_item_list_a.head(3)"
   ]
  },
  {
   "cell_type": "code",
   "execution_count": 103,
   "metadata": {},
   "outputs": [],
   "source": [
    "coupon_item_list_a['intersection'] = [len(set(a).intersection(b)) for a, b in zip(coupon_item_list_a.item_id_x, coupon_item_list_a.item_id_y)]\n",
    "coupon_item_list_a['union'] = [len(set(a).union(b)) for a, b in zip(coupon_item_list_a.item_id_x, coupon_item_list_a.item_id_y)]\n",
    "coupon_item_list_a['Jaccard']=coupon_item_list_a['intersection']/coupon_item_list_a['union']"
   ]
  },
  {
   "cell_type": "code",
   "execution_count": null,
   "metadata": {},
   "outputs": [],
   "source": []
  },
  {
   "cell_type": "code",
   "execution_count": null,
   "metadata": {},
   "outputs": [],
   "source": []
  },
  {
   "cell_type": "code",
   "execution_count": 104,
   "metadata": {},
   "outputs": [],
   "source": [
    "coupon_brand_list_b=pd.merge(coupon_brand_list,customer_brand_list,left_on='match_brand',right_on='match_brand',how='left')"
   ]
  },
  {
   "cell_type": "code",
   "execution_count": 105,
   "metadata": {},
   "outputs": [
    {
     "data": {
      "text/plain": [
       "(1765512, 5)"
      ]
     },
     "execution_count": 105,
     "metadata": {},
     "output_type": "execute_result"
    }
   ],
   "source": [
    "coupon_brand_list_b.shape"
   ]
  },
  {
   "cell_type": "code",
   "execution_count": 106,
   "metadata": {},
   "outputs": [
    {
     "data": {
      "text/html": [
       "<div>\n",
       "<style scoped>\n",
       "    .dataframe tbody tr th:only-of-type {\n",
       "        vertical-align: middle;\n",
       "    }\n",
       "\n",
       "    .dataframe tbody tr th {\n",
       "        vertical-align: top;\n",
       "    }\n",
       "\n",
       "    .dataframe thead th {\n",
       "        text-align: right;\n",
       "    }\n",
       "</style>\n",
       "<table border=\"1\" class=\"dataframe\">\n",
       "  <thead>\n",
       "    <tr style=\"text-align: right;\">\n",
       "      <th></th>\n",
       "      <th>coupon_id</th>\n",
       "      <th>brand_x</th>\n",
       "      <th>match_brand</th>\n",
       "      <th>customer_id</th>\n",
       "      <th>brand_y</th>\n",
       "    </tr>\n",
       "  </thead>\n",
       "  <tbody>\n",
       "    <tr>\n",
       "      <th>0</th>\n",
       "      <td>1.0</td>\n",
       "      <td>[1475, 1558, 4700]</td>\n",
       "      <td>b</td>\n",
       "      <td>1</td>\n",
       "      <td>[1061, 278, 56, 914, 141, 360, 1898, 743, 989,...</td>\n",
       "    </tr>\n",
       "    <tr>\n",
       "      <th>1</th>\n",
       "      <td>1.0</td>\n",
       "      <td>[1475, 1558, 4700]</td>\n",
       "      <td>b</td>\n",
       "      <td>2</td>\n",
       "      <td>[56, 1088, 1942, 172, 482, 2550, 2525, 686, 60...</td>\n",
       "    </tr>\n",
       "    <tr>\n",
       "      <th>2</th>\n",
       "      <td>1.0</td>\n",
       "      <td>[1475, 1558, 4700]</td>\n",
       "      <td>b</td>\n",
       "      <td>3</td>\n",
       "      <td>[686, 602, 989, 1235, 967, 823, 56, 975, 89, 1...</td>\n",
       "    </tr>\n",
       "  </tbody>\n",
       "</table>\n",
       "</div>"
      ],
      "text/plain": [
       "   coupon_id             brand_x match_brand  customer_id  \\\n",
       "0        1.0  [1475, 1558, 4700]           b            1   \n",
       "1        1.0  [1475, 1558, 4700]           b            2   \n",
       "2        1.0  [1475, 1558, 4700]           b            3   \n",
       "\n",
       "                                             brand_y  \n",
       "0  [1061, 278, 56, 914, 141, 360, 1898, 743, 989,...  \n",
       "1  [56, 1088, 1942, 172, 482, 2550, 2525, 686, 60...  \n",
       "2  [686, 602, 989, 1235, 967, 823, 56, 975, 89, 1...  "
      ]
     },
     "execution_count": 106,
     "metadata": {},
     "output_type": "execute_result"
    }
   ],
   "source": [
    "coupon_brand_list_b.head(3)"
   ]
  },
  {
   "cell_type": "code",
   "execution_count": 107,
   "metadata": {},
   "outputs": [],
   "source": [
    "coupon_brand_list_b['intersection'] = [len(set(a).intersection(b)) for a, b in zip(coupon_brand_list_b.brand_x, coupon_brand_list_b.brand_y)]\n",
    "coupon_brand_list_b['union'] = [len(set(a).union(b)) for a, b in zip(coupon_brand_list_b.brand_x, coupon_brand_list_b.brand_y)]\n",
    "coupon_brand_list_b['Jaccard_brand']=coupon_brand_list_b['intersection']/coupon_brand_list_b['union']"
   ]
  },
  {
   "cell_type": "code",
   "execution_count": null,
   "metadata": {},
   "outputs": [],
   "source": []
  },
  {
   "cell_type": "code",
   "execution_count": null,
   "metadata": {},
   "outputs": [],
   "source": []
  },
  {
   "cell_type": "code",
   "execution_count": 108,
   "metadata": {},
   "outputs": [
    {
     "data": {
      "text/plain": [
       "501"
      ]
     },
     "execution_count": 108,
     "metadata": {},
     "output_type": "execute_result"
    }
   ],
   "source": [
    "len(set(coupon_item_list.loc[0,\"item_id\"]).union(customer_item_list.loc[0,\"item_id\"]))"
   ]
  },
  {
   "cell_type": "code",
   "execution_count": 109,
   "metadata": {},
   "outputs": [],
   "source": [
    "def jaccardmetric(df1,df2,index1,index2,colname):\n",
    "    new_df=pd.DataFrame(columns=[index1,index2,colname])\n",
    "    for i in range(len(df1)):\n",
    "        for j in range(len(df2)):\n",
    "            p=pd.DataFrame()\n",
    "            a=df1.loc[i,colname]\n",
    "            b=df2.loc[j,colname]\n",
    "            intersection=set(a).intersection(b)\n",
    "            union=set(a).union(b)\n",
    "            jaccard=len(intersection)/float(len(union))\n",
    "            new_df.loc[len(new_df)]=[df1.loc[i,index1],df2.loc[j,index2],jaccard]\n",
    "    return new_df"
   ]
  },
  {
   "cell_type": "code",
   "execution_count": 110,
   "metadata": {},
   "outputs": [],
   "source": [
    "#coupon_customer_item=jaccardmetric(coupon_item_list,customer_item_list,\"coupon_id\",\"customer_id\",\"item_id\")"
   ]
  },
  {
   "cell_type": "code",
   "execution_count": 111,
   "metadata": {},
   "outputs": [],
   "source": [
    "#coupon_customer_brand=jaccardmetric(coupon_brand_list,customer_brand_list,\"coupon_id\",\"customer_id\",\"brand\")"
   ]
  },
  {
   "cell_type": "code",
   "execution_count": 112,
   "metadata": {},
   "outputs": [],
   "source": [
    "coupon_item_list_a.to_csv(\"coupon_customer_item.csv\")"
   ]
  },
  {
   "cell_type": "code",
   "execution_count": 113,
   "metadata": {},
   "outputs": [],
   "source": [
    "coupon_brand_list_b.to_csv(\"coupon_customer_brand.csv\")"
   ]
  },
  {
   "cell_type": "code",
   "execution_count": 114,
   "metadata": {},
   "outputs": [
    {
     "data": {
      "text/plain": [
       "1765512"
      ]
     },
     "execution_count": 114,
     "metadata": {},
     "output_type": "execute_result"
    }
   ],
   "source": [
    "coupon_item_list_a['Jaccard'].count()"
   ]
  },
  {
   "cell_type": "code",
   "execution_count": 115,
   "metadata": {},
   "outputs": [],
   "source": [
    "customer_main_a = customer_tran.groupby(['customer_id']).apply(lambda x: pd.Series({\n",
    "    'total_selling_price' : (x['selling_price']*x['quantity']).sum(),\n",
    "    'total_quantity': x['quantity'].sum(),\n",
    "    'mean_selling_price' : x['selling_price'].mean(),\n",
    "    'mean_std_dev': x['selling_price'].std(),\n",
    "    'max_selling_price': x['selling_price'].max(),\n",
    "    'median_selling_price': x['selling_price'].median(),\n",
    "    'mean_other_discont': (-x['other_discount']*100/x['selling_price']).mean(),\n",
    "    'value_other_discount': (-x['other_discount']*x['quantity']).sum(),\n",
    "    'mean_coupon_discont': (-x['coupon_discount']*100/x['selling_price']).mean(),\n",
    "    'value_coupon_discount': (-x['coupon_discount']*x['quantity']).sum(),\n",
    "    'most_bought_category': x['category'].mode().values[0]\n",
    "  \n",
    "})).reset_index()"
   ]
  },
  {
   "cell_type": "code",
   "execution_count": 116,
   "metadata": {},
   "outputs": [
    {
     "data": {
      "text/html": [
       "<div>\n",
       "<style scoped>\n",
       "    .dataframe tbody tr th:only-of-type {\n",
       "        vertical-align: middle;\n",
       "    }\n",
       "\n",
       "    .dataframe tbody tr th {\n",
       "        vertical-align: top;\n",
       "    }\n",
       "\n",
       "    .dataframe thead th {\n",
       "        text-align: right;\n",
       "    }\n",
       "</style>\n",
       "<table border=\"1\" class=\"dataframe\">\n",
       "  <thead>\n",
       "    <tr style=\"text-align: right;\">\n",
       "      <th></th>\n",
       "      <th>customer_id</th>\n",
       "      <th>total_selling_price</th>\n",
       "      <th>total_quantity</th>\n",
       "      <th>mean_selling_price</th>\n",
       "      <th>mean_std_dev</th>\n",
       "      <th>max_selling_price</th>\n",
       "      <th>median_selling_price</th>\n",
       "      <th>mean_other_discont</th>\n",
       "      <th>value_other_discount</th>\n",
       "      <th>mean_coupon_discont</th>\n",
       "      <th>value_coupon_discount</th>\n",
       "      <th>most_bought_category</th>\n",
       "    </tr>\n",
       "  </thead>\n",
       "  <tbody>\n",
       "    <tr>\n",
       "      <th>0</th>\n",
       "      <td>1</td>\n",
       "      <td>1.239484e+05</td>\n",
       "      <td>1227</td>\n",
       "      <td>94.001842</td>\n",
       "      <td>51.730756</td>\n",
       "      <td>445.25</td>\n",
       "      <td>89.05</td>\n",
       "      <td>17.549178</td>\n",
       "      <td>27998.87</td>\n",
       "      <td>1.992482</td>\n",
       "      <td>3133.42</td>\n",
       "      <td>Grocery</td>\n",
       "    </tr>\n",
       "    <tr>\n",
       "      <th>1</th>\n",
       "      <td>2</td>\n",
       "      <td>5.282288e+04</td>\n",
       "      <td>474</td>\n",
       "      <td>102.864033</td>\n",
       "      <td>74.357770</td>\n",
       "      <td>640.80</td>\n",
       "      <td>89.05</td>\n",
       "      <td>17.841452</td>\n",
       "      <td>11054.96</td>\n",
       "      <td>0.440862</td>\n",
       "      <td>427.44</td>\n",
       "      <td>Grocery</td>\n",
       "    </tr>\n",
       "    <tr>\n",
       "      <th>2</th>\n",
       "      <td>3</td>\n",
       "      <td>5.107930e+06</td>\n",
       "      <td>8163</td>\n",
       "      <td>103.617404</td>\n",
       "      <td>82.299878</td>\n",
       "      <td>862.00</td>\n",
       "      <td>76.23</td>\n",
       "      <td>22.735251</td>\n",
       "      <td>210461.69</td>\n",
       "      <td>3.181535</td>\n",
       "      <td>5320.39</td>\n",
       "      <td>Grocery</td>\n",
       "    </tr>\n",
       "    <tr>\n",
       "      <th>3</th>\n",
       "      <td>4</td>\n",
       "      <td>5.031001e+04</td>\n",
       "      <td>280</td>\n",
       "      <td>154.423727</td>\n",
       "      <td>199.048691</td>\n",
       "      <td>1330.05</td>\n",
       "      <td>106.50</td>\n",
       "      <td>10.594154</td>\n",
       "      <td>6699.36</td>\n",
       "      <td>0.090909</td>\n",
       "      <td>445.25</td>\n",
       "      <td>Grocery</td>\n",
       "    </tr>\n",
       "    <tr>\n",
       "      <th>4</th>\n",
       "      <td>5</td>\n",
       "      <td>1.073689e+08</td>\n",
       "      <td>93353</td>\n",
       "      <td>130.827146</td>\n",
       "      <td>144.009702</td>\n",
       "      <td>1485.35</td>\n",
       "      <td>91.90</td>\n",
       "      <td>13.008251</td>\n",
       "      <td>3135573.99</td>\n",
       "      <td>0.160137</td>\n",
       "      <td>90.83</td>\n",
       "      <td>Grocery</td>\n",
       "    </tr>\n",
       "  </tbody>\n",
       "</table>\n",
       "</div>"
      ],
      "text/plain": [
       "   customer_id  total_selling_price  total_quantity  mean_selling_price  \\\n",
       "0            1         1.239484e+05            1227           94.001842   \n",
       "1            2         5.282288e+04             474          102.864033   \n",
       "2            3         5.107930e+06            8163          103.617404   \n",
       "3            4         5.031001e+04             280          154.423727   \n",
       "4            5         1.073689e+08           93353          130.827146   \n",
       "\n",
       "   mean_std_dev  max_selling_price  median_selling_price  mean_other_discont  \\\n",
       "0     51.730756             445.25                 89.05           17.549178   \n",
       "1     74.357770             640.80                 89.05           17.841452   \n",
       "2     82.299878             862.00                 76.23           22.735251   \n",
       "3    199.048691            1330.05                106.50           10.594154   \n",
       "4    144.009702            1485.35                 91.90           13.008251   \n",
       "\n",
       "   value_other_discount  mean_coupon_discont  value_coupon_discount  \\\n",
       "0              27998.87             1.992482                3133.42   \n",
       "1              11054.96             0.440862                 427.44   \n",
       "2             210461.69             3.181535                5320.39   \n",
       "3               6699.36             0.090909                 445.25   \n",
       "4            3135573.99             0.160137                  90.83   \n",
       "\n",
       "  most_bought_category  \n",
       "0              Grocery  \n",
       "1              Grocery  \n",
       "2              Grocery  \n",
       "3              Grocery  \n",
       "4              Grocery  "
      ]
     },
     "execution_count": 116,
     "metadata": {},
     "output_type": "execute_result"
    }
   ],
   "source": [
    "customer_main_a.head()"
   ]
  },
  {
   "cell_type": "code",
   "execution_count": 117,
   "metadata": {},
   "outputs": [],
   "source": [
    "customer_main_b = pd.pivot_table(customer_tran, index= ['customer_id'], columns= [ 'category'],values = ['total_price', 'quantity'] ,aggfunc= ['sum']).reset_index()"
   ]
  },
  {
   "cell_type": "code",
   "execution_count": 118,
   "metadata": {},
   "outputs": [],
   "source": [
    "customer_main_b.columns = customer_main_b.columns.map('_'.join).str.strip('_')"
   ]
  },
  {
   "cell_type": "code",
   "execution_count": 119,
   "metadata": {},
   "outputs": [],
   "source": [
    "customer_main_c = pd.pivot_table(customer_tran, index= ['customer_id'], columns= [ 'brand_type'],values = ['total_price', 'quantity'] ,aggfunc= ['sum']).reset_index()"
   ]
  },
  {
   "cell_type": "code",
   "execution_count": 120,
   "metadata": {},
   "outputs": [],
   "source": [
    "customer_main_c.columns = customer_main_c.columns.map('_'.join).str.strip('_')"
   ]
  },
  {
   "cell_type": "code",
   "execution_count": 121,
   "metadata": {},
   "outputs": [],
   "source": [
    "customer_main = pd.merge(customer_main_a, customer_main_b, left_on=['customer_id'], right_on= ['customer_id'], how = 'left')"
   ]
  },
  {
   "cell_type": "code",
   "execution_count": 122,
   "metadata": {},
   "outputs": [],
   "source": [
    "customer_main = pd.merge(customer_main, customer_main_c, left_on=['customer_id'], right_on= ['customer_id'], how = 'left')"
   ]
  },
  {
   "cell_type": "code",
   "execution_count": 123,
   "metadata": {},
   "outputs": [],
   "source": [
    "customer_full = pd.merge(customer_main, customer_demo, left_on=['customer_id'], right_on= ['customer_id'], how = 'left')"
   ]
  },
  {
   "cell_type": "code",
   "execution_count": 193,
   "metadata": {},
   "outputs": [],
   "source": [
    "train  = pd.read_csv('train.csv')"
   ]
  },
  {
   "cell_type": "code",
   "execution_count": 194,
   "metadata": {},
   "outputs": [
    {
     "data": {
      "text/html": [
       "<div>\n",
       "<style scoped>\n",
       "    .dataframe tbody tr th:only-of-type {\n",
       "        vertical-align: middle;\n",
       "    }\n",
       "\n",
       "    .dataframe tbody tr th {\n",
       "        vertical-align: top;\n",
       "    }\n",
       "\n",
       "    .dataframe thead th {\n",
       "        text-align: right;\n",
       "    }\n",
       "</style>\n",
       "<table border=\"1\" class=\"dataframe\">\n",
       "  <thead>\n",
       "    <tr style=\"text-align: right;\">\n",
       "      <th></th>\n",
       "      <th>id</th>\n",
       "      <th>campaign_id</th>\n",
       "      <th>coupon_id</th>\n",
       "      <th>customer_id</th>\n",
       "      <th>redemption_status</th>\n",
       "    </tr>\n",
       "  </thead>\n",
       "  <tbody>\n",
       "    <tr>\n",
       "      <th>0</th>\n",
       "      <td>1</td>\n",
       "      <td>13</td>\n",
       "      <td>27</td>\n",
       "      <td>1053</td>\n",
       "      <td>0</td>\n",
       "    </tr>\n",
       "    <tr>\n",
       "      <th>1</th>\n",
       "      <td>2</td>\n",
       "      <td>13</td>\n",
       "      <td>116</td>\n",
       "      <td>48</td>\n",
       "      <td>0</td>\n",
       "    </tr>\n",
       "  </tbody>\n",
       "</table>\n",
       "</div>"
      ],
      "text/plain": [
       "   id  campaign_id  coupon_id  customer_id  redemption_status\n",
       "0   1           13         27         1053                  0\n",
       "1   2           13        116           48                  0"
      ]
     },
     "execution_count": 194,
     "metadata": {},
     "output_type": "execute_result"
    }
   ],
   "source": [
    "train.head(2)"
   ]
  },
  {
   "cell_type": "code",
   "execution_count": 195,
   "metadata": {},
   "outputs": [
    {
     "data": {
      "text/plain": [
       "(78369, 5)"
      ]
     },
     "execution_count": 195,
     "metadata": {},
     "output_type": "execute_result"
    }
   ],
   "source": [
    "train.shape"
   ]
  },
  {
   "cell_type": "code",
   "execution_count": 196,
   "metadata": {},
   "outputs": [
    {
     "data": {
      "text/plain": [
       "(866, 1428)"
      ]
     },
     "execution_count": 196,
     "metadata": {},
     "output_type": "execute_result"
    }
   ],
   "source": [
    "train.coupon_id.nunique(), train.customer_id.nunique()"
   ]
  },
  {
   "cell_type": "code",
   "execution_count": 197,
   "metadata": {},
   "outputs": [],
   "source": [
    "test = pd.read_csv('test_QyjYwdj.csv')"
   ]
  },
  {
   "cell_type": "code",
   "execution_count": 198,
   "metadata": {},
   "outputs": [
    {
     "data": {
      "text/html": [
       "<div>\n",
       "<style scoped>\n",
       "    .dataframe tbody tr th:only-of-type {\n",
       "        vertical-align: middle;\n",
       "    }\n",
       "\n",
       "    .dataframe tbody tr th {\n",
       "        vertical-align: top;\n",
       "    }\n",
       "\n",
       "    .dataframe thead th {\n",
       "        text-align: right;\n",
       "    }\n",
       "</style>\n",
       "<table border=\"1\" class=\"dataframe\">\n",
       "  <thead>\n",
       "    <tr style=\"text-align: right;\">\n",
       "      <th></th>\n",
       "      <th>id</th>\n",
       "      <th>campaign_id</th>\n",
       "      <th>coupon_id</th>\n",
       "      <th>customer_id</th>\n",
       "    </tr>\n",
       "  </thead>\n",
       "  <tbody>\n",
       "    <tr>\n",
       "      <th>0</th>\n",
       "      <td>3</td>\n",
       "      <td>22</td>\n",
       "      <td>869</td>\n",
       "      <td>967</td>\n",
       "    </tr>\n",
       "    <tr>\n",
       "      <th>1</th>\n",
       "      <td>4</td>\n",
       "      <td>20</td>\n",
       "      <td>389</td>\n",
       "      <td>1566</td>\n",
       "    </tr>\n",
       "    <tr>\n",
       "      <th>2</th>\n",
       "      <td>5</td>\n",
       "      <td>22</td>\n",
       "      <td>981</td>\n",
       "      <td>510</td>\n",
       "    </tr>\n",
       "    <tr>\n",
       "      <th>3</th>\n",
       "      <td>8</td>\n",
       "      <td>25</td>\n",
       "      <td>1069</td>\n",
       "      <td>361</td>\n",
       "    </tr>\n",
       "    <tr>\n",
       "      <th>4</th>\n",
       "      <td>10</td>\n",
       "      <td>17</td>\n",
       "      <td>498</td>\n",
       "      <td>811</td>\n",
       "    </tr>\n",
       "  </tbody>\n",
       "</table>\n",
       "</div>"
      ],
      "text/plain": [
       "   id  campaign_id  coupon_id  customer_id\n",
       "0   3           22        869          967\n",
       "1   4           20        389         1566\n",
       "2   5           22        981          510\n",
       "3   8           25       1069          361\n",
       "4  10           17        498          811"
      ]
     },
     "execution_count": 198,
     "metadata": {},
     "output_type": "execute_result"
    }
   ],
   "source": [
    "test.head()"
   ]
  },
  {
   "cell_type": "code",
   "execution_count": 199,
   "metadata": {},
   "outputs": [
    {
     "data": {
      "text/plain": [
       "(50226, 4)"
      ]
     },
     "execution_count": 199,
     "metadata": {},
     "output_type": "execute_result"
    }
   ],
   "source": [
    "test.shape"
   ]
  },
  {
   "cell_type": "code",
   "execution_count": 200,
   "metadata": {},
   "outputs": [],
   "source": [
    "total_data = pd.concat( [train, test], axis  = 0, sort=False)"
   ]
  },
  {
   "cell_type": "code",
   "execution_count": 201,
   "metadata": {},
   "outputs": [
    {
     "data": {
      "text/plain": [
       "(128595, 5)"
      ]
     },
     "execution_count": 201,
     "metadata": {},
     "output_type": "execute_result"
    }
   ],
   "source": [
    "total_data.shape"
   ]
  },
  {
   "cell_type": "code",
   "execution_count": 202,
   "metadata": {},
   "outputs": [],
   "source": [
    "total_data = pd.merge(total_data, customer_full, left_on=['customer_id'], right_on= ['customer_id'], how = 'left')"
   ]
  },
  {
   "cell_type": "markdown",
   "metadata": {},
   "source": [
    "customer_main_campaingn_pivot=customer_main_campaingn_pivot[customer_main_campaingn_pivot[\"campaign_id\"]!=\"NoData\"]\n",
    "customer_main_coupon_pivot=customer_main_coupon_pivot[customer_main_coupon_pivot[\"coupon_id\"]!=\"NoCoupon\"]"
   ]
  },
  {
   "cell_type": "markdown",
   "metadata": {},
   "source": [
    "customer_main_campaingn_pivot['campaign_id']=customer_main_campaingn_pivot['campaign_id'].astype(float).astype(int)\n",
    "customer_main_coupon_pivot['coupon_id']=customer_main_coupon_pivot['coupon_id'].astype(float).astype(int)"
   ]
  },
  {
   "cell_type": "code",
   "execution_count": 205,
   "metadata": {},
   "outputs": [
    {
     "data": {
      "text/plain": [
       "Index(['id', 'campaign_id', 'coupon_id', 'customer_id', 'redemption_status',\n",
       "       'total_selling_price', 'total_quantity', 'mean_selling_price',\n",
       "       'mean_std_dev', 'max_selling_price', 'median_selling_price',\n",
       "       'mean_other_discont', 'value_other_discount', 'mean_coupon_discont',\n",
       "       'value_coupon_discount', 'most_bought_category', 'sum_quantity_Alcohol',\n",
       "       'sum_quantity_Bakery', 'sum_quantity_Dairy, Juices & Snacks',\n",
       "       'sum_quantity_Flowers & Plants', 'sum_quantity_Fuel',\n",
       "       'sum_quantity_Garden', 'sum_quantity_Grocery', 'sum_quantity_Meat',\n",
       "       'sum_quantity_Miscellaneous', 'sum_quantity_Natural Products',\n",
       "       'sum_quantity_Packaged Meat', 'sum_quantity_Pharmaceutical',\n",
       "       'sum_quantity_Prepared Food', 'sum_quantity_Restauarant',\n",
       "       'sum_quantity_Salads', 'sum_quantity_Seafood',\n",
       "       'sum_quantity_Skin & Hair Care', 'sum_quantity_Travel',\n",
       "       'sum_quantity_Vegetables (cut)', 'sum_total_price_Alcohol',\n",
       "       'sum_total_price_Bakery', 'sum_total_price_Dairy, Juices & Snacks',\n",
       "       'sum_total_price_Flowers & Plants', 'sum_total_price_Fuel',\n",
       "       'sum_total_price_Garden', 'sum_total_price_Grocery',\n",
       "       'sum_total_price_Meat', 'sum_total_price_Miscellaneous',\n",
       "       'sum_total_price_Natural Products', 'sum_total_price_Packaged Meat',\n",
       "       'sum_total_price_Pharmaceutical', 'sum_total_price_Prepared Food',\n",
       "       'sum_total_price_Restauarant', 'sum_total_price_Salads',\n",
       "       'sum_total_price_Seafood', 'sum_total_price_Skin & Hair Care',\n",
       "       'sum_total_price_Travel', 'sum_total_price_Vegetables (cut)',\n",
       "       'sum_quantity_Established', 'sum_quantity_Local',\n",
       "       'sum_total_price_Established', 'sum_total_price_Local', 'age_range',\n",
       "       'marital_status', 'rented', 'family_size', 'no_of_children',\n",
       "       'income_bracket'],\n",
       "      dtype='object')"
      ]
     },
     "execution_count": 205,
     "metadata": {},
     "output_type": "execute_result"
    }
   ],
   "source": [
    "total_data.columns"
   ]
  },
  {
   "cell_type": "code",
   "execution_count": 206,
   "metadata": {},
   "outputs": [
    {
     "data": {
      "text/html": [
       "<div>\n",
       "<style scoped>\n",
       "    .dataframe tbody tr th:only-of-type {\n",
       "        vertical-align: middle;\n",
       "    }\n",
       "\n",
       "    .dataframe tbody tr th {\n",
       "        vertical-align: top;\n",
       "    }\n",
       "\n",
       "    .dataframe thead th {\n",
       "        text-align: right;\n",
       "    }\n",
       "</style>\n",
       "<table border=\"1\" class=\"dataframe\">\n",
       "  <thead>\n",
       "    <tr style=\"text-align: right;\">\n",
       "      <th></th>\n",
       "      <th>campaign_id</th>\n",
       "      <th>campaign_type</th>\n",
       "      <th>start_date</th>\n",
       "      <th>end_date</th>\n",
       "      <th>campaign_duration</th>\n",
       "      <th>season</th>\n",
       "    </tr>\n",
       "  </thead>\n",
       "  <tbody>\n",
       "    <tr>\n",
       "      <th>27</th>\n",
       "      <td>26</td>\n",
       "      <td>X</td>\n",
       "      <td>2012-08-12</td>\n",
       "      <td>2012-09-21</td>\n",
       "      <td>40</td>\n",
       "      <td>3</td>\n",
       "    </tr>\n",
       "    <tr>\n",
       "      <th>26</th>\n",
       "      <td>27</td>\n",
       "      <td>Y</td>\n",
       "      <td>2012-08-25</td>\n",
       "      <td>2012-10-27</td>\n",
       "      <td>63</td>\n",
       "      <td>3</td>\n",
       "    </tr>\n",
       "    <tr>\n",
       "      <th>25</th>\n",
       "      <td>28</td>\n",
       "      <td>Y</td>\n",
       "      <td>2012-09-16</td>\n",
       "      <td>2012-11-16</td>\n",
       "      <td>61</td>\n",
       "      <td>4</td>\n",
       "    </tr>\n",
       "  </tbody>\n",
       "</table>\n",
       "</div>"
      ],
      "text/plain": [
       "    campaign_id campaign_type start_date   end_date  campaign_duration  season\n",
       "27           26             X 2012-08-12 2012-09-21                 40       3\n",
       "26           27             Y 2012-08-25 2012-10-27                 63       3\n",
       "25           28             Y 2012-09-16 2012-11-16                 61       4"
      ]
     },
     "execution_count": 206,
     "metadata": {},
     "output_type": "execute_result"
    }
   ],
   "source": [
    "campaign_data.head(3)"
   ]
  },
  {
   "cell_type": "code",
   "execution_count": 207,
   "metadata": {},
   "outputs": [],
   "source": [
    "total_data = pd.merge(total_data, campaign_data, left_on=['campaign_id'], right_on= ['campaign_id'], how = 'left')\n",
    "total_data = pd.merge(total_data, customer_main_campaingn_affinity, left_on=['customer_id','campaign_type'], right_on= ['customer_id','campaign_type'], how = 'left')"
   ]
  },
  {
   "cell_type": "code",
   "execution_count": 208,
   "metadata": {},
   "outputs": [],
   "source": [
    "total_data = pd.merge(total_data, coupon_item_3_pivot,left_on=['coupon_id'], right_on= ['coupon_id'], how = 'left')\n",
    "total_data = pd.merge(total_data, customer_tran_freq_1,left_on=['customer_id'], right_on= ['customer_id'], how = 'left')"
   ]
  },
  {
   "cell_type": "code",
   "execution_count": 209,
   "metadata": {},
   "outputs": [],
   "source": [
    "total_data = pd.merge(total_data, coupon_item_list_a[['coupon_id','customer_id','Jaccard']],left_on=['coupon_id','customer_id'], right_on= ['coupon_id','customer_id'], how = 'left')\n",
    "total_data = pd.merge(total_data, coupon_brand_list_b[['coupon_id','customer_id','Jaccard_brand']],left_on=['coupon_id','customer_id'], right_on= ['coupon_id','customer_id'], how = 'left')"
   ]
  },
  {
   "cell_type": "code",
   "execution_count": 217,
   "metadata": {},
   "outputs": [],
   "source": [
    "total_data = pd.merge(total_data, coupon_item_x_pivot,left_on=['coupon_id'], right_on= ['coupon_id'], how = 'left')"
   ]
  },
  {
   "cell_type": "code",
   "execution_count": 218,
   "metadata": {},
   "outputs": [
    {
     "data": {
      "text/plain": [
       "(128595, 106)"
      ]
     },
     "execution_count": 218,
     "metadata": {},
     "output_type": "execute_result"
    }
   ],
   "source": [
    "total_data.shape"
   ]
  },
  {
   "cell_type": "code",
   "execution_count": 219,
   "metadata": {},
   "outputs": [],
   "source": [
    "drop_cols = [ 'campaign_id','coupon_id', 'customer_id', 'id','start_date','end_date']"
   ]
  },
  {
   "cell_type": "code",
   "execution_count": 220,
   "metadata": {},
   "outputs": [],
   "source": [
    "total_data.drop(drop_cols, axis = 1, inplace = True)"
   ]
  },
  {
   "cell_type": "code",
   "execution_count": 221,
   "metadata": {},
   "outputs": [],
   "source": [
    "#total_data['campaign_id'] = total_data['campaign_id'].astype(str)"
   ]
  },
  {
   "cell_type": "code",
   "execution_count": 222,
   "metadata": {},
   "outputs": [],
   "source": [
    "total_data_dum = pd.get_dummies(total_data)"
   ]
  },
  {
   "cell_type": "code",
   "execution_count": 223,
   "metadata": {},
   "outputs": [
    {
     "data": {
      "text/plain": [
       "(128595, 118)"
      ]
     },
     "execution_count": 223,
     "metadata": {},
     "output_type": "execute_result"
    }
   ],
   "source": [
    "total_data_dum.shape"
   ]
  },
  {
   "cell_type": "code",
   "execution_count": 224,
   "metadata": {},
   "outputs": [],
   "source": [
    "Y = total_data['redemption_status'][:len(train)]"
   ]
  },
  {
   "cell_type": "code",
   "execution_count": 225,
   "metadata": {},
   "outputs": [],
   "source": [
    "X = total_data_dum.loc[:len(train)-1, : ]\n",
    "X_test = total_data_dum.loc[len(train):,:]"
   ]
  },
  {
   "cell_type": "code",
   "execution_count": 226,
   "metadata": {},
   "outputs": [],
   "source": [
    "pd.set_option('display.max_rows', 500)"
   ]
  },
  {
   "cell_type": "code",
   "execution_count": 227,
   "metadata": {},
   "outputs": [
    {
     "data": {
      "text/plain": [
       "redemption_status                              50226\n",
       "total_selling_price                                0\n",
       "total_quantity                                     0\n",
       "mean_selling_price                                 0\n",
       "mean_std_dev                                       0\n",
       "max_selling_price                                  0\n",
       "median_selling_price                               0\n",
       "mean_other_discont                                 0\n",
       "value_other_discount                               0\n",
       "mean_coupon_discont                                0\n",
       "value_coupon_discount                              0\n",
       "sum_quantity_Alcohol                           35768\n",
       "sum_quantity_Bakery                             2143\n",
       "sum_quantity_Dairy, Juices & Snacks             9660\n",
       "sum_quantity_Flowers & Plants                  25158\n",
       "sum_quantity_Fuel                              16694\n",
       "sum_quantity_Garden                            41207\n",
       "sum_quantity_Grocery                               0\n",
       "sum_quantity_Meat                               1480\n",
       "sum_quantity_Miscellaneous                     22704\n",
       "sum_quantity_Natural Products                    281\n",
       "sum_quantity_Packaged Meat                       299\n",
       "sum_quantity_Pharmaceutical                       18\n",
       "sum_quantity_Prepared Food                      5017\n",
       "sum_quantity_Restauarant                       47199\n",
       "sum_quantity_Salads                            42480\n",
       "sum_quantity_Seafood                            9230\n",
       "sum_quantity_Skin & Hair Care                  15327\n",
       "sum_quantity_Travel                            42349\n",
       "sum_quantity_Vegetables (cut)                  46986\n",
       "sum_total_price_Alcohol                        35768\n",
       "sum_total_price_Bakery                          2143\n",
       "sum_total_price_Dairy, Juices & Snacks          9660\n",
       "sum_total_price_Flowers & Plants               25158\n",
       "sum_total_price_Fuel                           16694\n",
       "sum_total_price_Garden                         41207\n",
       "sum_total_price_Grocery                            0\n",
       "sum_total_price_Meat                            1480\n",
       "sum_total_price_Miscellaneous                  22704\n",
       "sum_total_price_Natural Products                 281\n",
       "sum_total_price_Packaged Meat                    299\n",
       "sum_total_price_Pharmaceutical                    18\n",
       "sum_total_price_Prepared Food                   5017\n",
       "sum_total_price_Restauarant                    47199\n",
       "sum_total_price_Salads                         42480\n",
       "sum_total_price_Seafood                         9230\n",
       "sum_total_price_Skin & Hair Care               15327\n",
       "sum_total_price_Travel                         42349\n",
       "sum_total_price_Vegetables (cut)               46986\n",
       "sum_quantity_Established                           0\n",
       "sum_quantity_Local                                 0\n",
       "sum_total_price_Established                        0\n",
       "sum_total_price_Local                              0\n",
       "rented                                         19287\n",
       "income_bracket                                 19287\n",
       "campaign_duration                                  0\n",
       "season                                             0\n",
       "no_Shopped_days_aff                                0\n",
       "no_shopped_items_aff                               0\n",
       "no_shopped_brands_aff                              0\n",
       "no_shopped_category_aff                            0\n",
       "total_quantity_shopped_aff                         0\n",
       "total_selling_price_aff                            0\n",
       "total_shopped_price_aff                            0\n",
       "value_other_discont_aff                            0\n",
       "value_coupon_discount_aff                       6210\n",
       "('no_brand', 'Established')                        0\n",
       "('no_brand', 'Local')                              0\n",
       "('no_category', 'Established')                     0\n",
       "('no_category', 'Local')                           0\n",
       "('no_items', 'Established')                        0\n",
       "('no_items', 'Local')                              0\n",
       "('diff_days', 'mean')                              0\n",
       "('diff_days', 'max')                               0\n",
       "('diff_days', 'min')                               0\n",
       "Jaccard                                            0\n",
       "Jaccard_brand                                      0\n",
       "Bakery                                             0\n",
       "Dairy, Juices & Snacks                             0\n",
       "Flowers & Plants                                   0\n",
       "Garden                                             0\n",
       "Grocery                                            0\n",
       "Meat                                               0\n",
       "Miscellaneous                                      0\n",
       "Natural Products                                   0\n",
       "Packaged Meat                                      0\n",
       "Pharmaceutical                                     0\n",
       "Prepared Food                                      0\n",
       "Restauarant                                        0\n",
       "Salads                                             0\n",
       "Seafood                                            0\n",
       "Skin & Hair Care                                   0\n",
       "Travel                                             0\n",
       "Vegetables (cut)                                   0\n",
       "most_bought_category_Dairy, Juices & Snacks        0\n",
       "most_bought_category_Grocery                       0\n",
       "most_bought_category_Packaged Meat                 0\n",
       "most_bought_category_Pharmaceutical                0\n",
       "age_range_18-25                                    0\n",
       "age_range_26-35                                    0\n",
       "age_range_36-45                                    0\n",
       "age_range_46-55                                    0\n",
       "age_range_56-70                                    0\n",
       "age_range_70+                                      0\n",
       "marital_status_Married                             0\n",
       "marital_status_NoData                              0\n",
       "marital_status_Single                              0\n",
       "family_size_1                                      0\n",
       "family_size_2                                      0\n",
       "family_size_3                                      0\n",
       "family_size_4                                      0\n",
       "family_size_5+                                     0\n",
       "no_of_children_1                                   0\n",
       "no_of_children_2                                   0\n",
       "no_of_children_3+                                  0\n",
       "no_of_children_NoData                              0\n",
       "campaign_type_X                                    0\n",
       "campaign_type_Y                                    0\n",
       "dtype: int64"
      ]
     },
     "execution_count": 227,
     "metadata": {},
     "output_type": "execute_result"
    }
   ],
   "source": [
    "X_test.isna().sum()"
   ]
  },
  {
   "cell_type": "code",
   "execution_count": 228,
   "metadata": {},
   "outputs": [
    {
     "name": "stderr",
     "output_type": "stream",
     "text": [
      "C:\\Anaconda\\lib\\site-packages\\pandas\\core\\frame.py:3940: SettingWithCopyWarning: \n",
      "A value is trying to be set on a copy of a slice from a DataFrame\n",
      "\n",
      "See the caveats in the documentation: http://pandas.pydata.org/pandas-docs/stable/indexing.html#indexing-view-versus-copy\n",
      "  errors=errors)\n"
     ]
    }
   ],
   "source": [
    "X.drop(['redemption_status'], axis = 1, inplace = True)\n",
    "X_test.drop(['redemption_status'], axis = 1, inplace = True)"
   ]
  },
  {
   "cell_type": "code",
   "execution_count": 229,
   "metadata": {},
   "outputs": [
    {
     "data": {
      "text/plain": [
       "((78369, 117), (50226, 117), (78369,))"
      ]
     },
     "execution_count": 229,
     "metadata": {},
     "output_type": "execute_result"
    }
   ],
   "source": [
    "X.shape, X_test.shape, Y.shape"
   ]
  },
  {
   "cell_type": "code",
   "execution_count": 230,
   "metadata": {},
   "outputs": [],
   "source": [
    "import lightgbm as lgb\n",
    "from sklearn.model_selection import train_test_split\n",
    "from sklearn.metrics import roc_auc_score"
   ]
  },
  {
   "cell_type": "code",
   "execution_count": 231,
   "metadata": {},
   "outputs": [],
   "source": [
    "X_train=X.loc[:50000, : ]\n",
    "X_eval =X.loc[50001:, : ]\n",
    "Y_train = Y[0:50001]\n",
    "Y_eval = Y[50001:len(Y)]"
   ]
  },
  {
   "cell_type": "code",
   "execution_count": 232,
   "metadata": {},
   "outputs": [
    {
     "data": {
      "text/plain": [
       "((50001, 117), (28368, 117), (50001,), (28368,))"
      ]
     },
     "execution_count": 232,
     "metadata": {},
     "output_type": "execute_result"
    }
   ],
   "source": [
    "X_train.shape,X_eval.shape,Y_train.shape,Y_eval.shape"
   ]
  },
  {
   "cell_type": "code",
   "execution_count": 233,
   "metadata": {},
   "outputs": [
    {
     "data": {
      "text/plain": [
       "(479.0, 250.0)"
      ]
     },
     "execution_count": 233,
     "metadata": {},
     "output_type": "execute_result"
    }
   ],
   "source": [
    "Y_train.sum(), Y_eval.sum()"
   ]
  },
  {
   "cell_type": "code",
   "execution_count": 234,
   "metadata": {},
   "outputs": [
    {
     "name": "stdout",
     "output_type": "stream",
     "text": [
      "[5]\tcv_agg's auc: 0.962608 + 0.0119373\n",
      "[10]\tcv_agg's auc: 0.974839 + 0.00857199\n",
      "[15]\tcv_agg's auc: 0.977458 + 0.00616475\n",
      "[20]\tcv_agg's auc: 0.98052 + 0.00418782\n",
      "[25]\tcv_agg's auc: 0.980937 + 0.003973\n",
      "[30]\tcv_agg's auc: 0.981355 + 0.00404054\n",
      "[35]\tcv_agg's auc: 0.981595 + 0.00391448\n",
      "[40]\tcv_agg's auc: 0.981783 + 0.00374348\n",
      "[45]\tcv_agg's auc: 0.982925 + 0.00231385\n",
      "[50]\tcv_agg's auc: 0.982966 + 0.00225232\n",
      "[55]\tcv_agg's auc: 0.983106 + 0.00221555\n",
      "[60]\tcv_agg's auc: 0.983998 + 0.00147582\n",
      "[65]\tcv_agg's auc: 0.984071 + 0.00145903\n",
      "[70]\tcv_agg's auc: 0.984197 + 0.00142316\n",
      "[75]\tcv_agg's auc: 0.984038 + 0.00145271\n",
      "[80]\tcv_agg's auc: 0.984091 + 0.00147236\n",
      "[85]\tcv_agg's auc: 0.984117 + 0.00148325\n",
      "[90]\tcv_agg's auc: 0.984113 + 0.00152524\n"
     ]
    }
   ],
   "source": [
    "lgb_train = lgb.Dataset(X_train, Y_train)\n",
    "lgb_eval = lgb.Dataset(X_eval, Y_eval, reference= lgb_train)\n",
    "lgb_total = lgb.Dataset(X,Y)\n",
    "\n",
    "\n",
    "params = {\n",
    "    'task': 'train',\n",
    "    'boosting_type': 'gbdt',\n",
    "    'objective': 'binary',\n",
    "    'metric': 'auc',\n",
    "    'num_leaves': 50,\n",
    "    'learning_rate': 0.005,\n",
    "    'feature_fraction': 0.9,\n",
    "    'bagging_fraction': 0.9,\n",
    "    'bagging_freq': 3,\n",
    "    'verbose': 1,\n",
    "    'max_depth':50,\n",
    "    'scale_pos_weight': 50\n",
    "\n",
    "}\n",
    "\n",
    "evals_result = {} # to record eval results for plotting\n",
    "model_lgb = lgb.cv(params,\n",
    "                lgb_total,\n",
    "                num_boost_round=10000,\n",
    "                nfold  = 5,\n",
    "                verbose_eval=5,   \n",
    "                #feval= mean_absolute_percentage_error, \n",
    "                #evals_result=evals_result,\n",
    "                early_stopping_rounds=20,\n",
    "              stratified = True)"
   ]
  },
  {
   "cell_type": "code",
   "execution_count": 307,
   "metadata": {},
   "outputs": [
    {
     "name": "stdout",
     "output_type": "stream",
     "text": [
      "[5]\ttraining's auc: 0.977384\tvalid_1's auc: 0.974971\n",
      "[10]\ttraining's auc: 0.979985\tvalid_1's auc: 0.977047\n",
      "[15]\ttraining's auc: 0.982327\tvalid_1's auc: 0.979043\n",
      "[20]\ttraining's auc: 0.982719\tvalid_1's auc: 0.979765\n",
      "[25]\ttraining's auc: 0.98311\tvalid_1's auc: 0.980361\n",
      "[30]\ttraining's auc: 0.98359\tvalid_1's auc: 0.980891\n",
      "[35]\ttraining's auc: 0.984245\tvalid_1's auc: 0.981435\n",
      "[40]\ttraining's auc: 0.98469\tvalid_1's auc: 0.981594\n",
      "[45]\ttraining's auc: 0.985341\tvalid_1's auc: 0.98198\n",
      "[50]\ttraining's auc: 0.985947\tvalid_1's auc: 0.982452\n",
      "[55]\ttraining's auc: 0.986373\tvalid_1's auc: 0.982598\n",
      "[60]\ttraining's auc: 0.986766\tvalid_1's auc: 0.982832\n",
      "[65]\ttraining's auc: 0.987218\tvalid_1's auc: 0.983072\n",
      "[70]\ttraining's auc: 0.987722\tvalid_1's auc: 0.983295\n",
      "[75]\ttraining's auc: 0.988012\tvalid_1's auc: 0.983445\n",
      "[80]\ttraining's auc: 0.988414\tvalid_1's auc: 0.983734\n",
      "[85]\ttraining's auc: 0.988987\tvalid_1's auc: 0.984226\n",
      "[90]\ttraining's auc: 0.989356\tvalid_1's auc: 0.984436\n",
      "[95]\ttraining's auc: 0.989634\tvalid_1's auc: 0.984727\n",
      "[100]\ttraining's auc: 0.989925\tvalid_1's auc: 0.984899\n",
      "[105]\ttraining's auc: 0.990195\tvalid_1's auc: 0.985004\n",
      "[110]\ttraining's auc: 0.990603\tvalid_1's auc: 0.98529\n",
      "[115]\ttraining's auc: 0.990873\tvalid_1's auc: 0.985351\n",
      "[120]\ttraining's auc: 0.991067\tvalid_1's auc: 0.985374\n",
      "[125]\ttraining's auc: 0.991251\tvalid_1's auc: 0.985523\n",
      "[130]\ttraining's auc: 0.991513\tvalid_1's auc: 0.985643\n",
      "[135]\ttraining's auc: 0.991757\tvalid_1's auc: 0.985675\n",
      "[140]\ttraining's auc: 0.991867\tvalid_1's auc: 0.985687\n",
      "[145]\ttraining's auc: 0.992074\tvalid_1's auc: 0.985815\n",
      "[150]\ttraining's auc: 0.992334\tvalid_1's auc: 0.985898\n",
      "[155]\ttraining's auc: 0.992459\tvalid_1's auc: 0.98592\n",
      "[160]\ttraining's auc: 0.992669\tvalid_1's auc: 0.985993\n",
      "[165]\ttraining's auc: 0.992797\tvalid_1's auc: 0.986008\n",
      "[170]\ttraining's auc: 0.993025\tvalid_1's auc: 0.986115\n",
      "[175]\ttraining's auc: 0.993201\tvalid_1's auc: 0.986231\n",
      "[180]\ttraining's auc: 0.993351\tvalid_1's auc: 0.986305\n",
      "[185]\ttraining's auc: 0.993438\tvalid_1's auc: 0.986376\n",
      "[190]\ttraining's auc: 0.993624\tvalid_1's auc: 0.986425\n",
      "[195]\ttraining's auc: 0.993726\tvalid_1's auc: 0.98653\n",
      "[200]\ttraining's auc: 0.993779\tvalid_1's auc: 0.986565\n",
      "[205]\ttraining's auc: 0.993833\tvalid_1's auc: 0.986497\n",
      "[210]\ttraining's auc: 0.993976\tvalid_1's auc: 0.986554\n",
      "[215]\ttraining's auc: 0.994096\tvalid_1's auc: 0.986558\n",
      "[220]\ttraining's auc: 0.994226\tvalid_1's auc: 0.986578\n",
      "[225]\ttraining's auc: 0.994309\tvalid_1's auc: 0.986595\n",
      "[230]\ttraining's auc: 0.994368\tvalid_1's auc: 0.986591\n",
      "[235]\ttraining's auc: 0.994505\tvalid_1's auc: 0.986617\n",
      "[240]\ttraining's auc: 0.99463\tvalid_1's auc: 0.986669\n",
      "[245]\ttraining's auc: 0.994727\tvalid_1's auc: 0.986687\n",
      "[250]\ttraining's auc: 0.99477\tvalid_1's auc: 0.986657\n",
      "[255]\ttraining's auc: 0.994831\tvalid_1's auc: 0.986696\n",
      "[260]\ttraining's auc: 0.99495\tvalid_1's auc: 0.986746\n",
      "[265]\ttraining's auc: 0.995026\tvalid_1's auc: 0.986775\n",
      "[270]\ttraining's auc: 0.99509\tvalid_1's auc: 0.986813\n",
      "[275]\ttraining's auc: 0.995192\tvalid_1's auc: 0.986786\n",
      "[280]\ttraining's auc: 0.995235\tvalid_1's auc: 0.986824\n",
      "[285]\ttraining's auc: 0.995328\tvalid_1's auc: 0.986834\n",
      "[290]\ttraining's auc: 0.995433\tvalid_1's auc: 0.986919\n",
      "[295]\ttraining's auc: 0.995504\tvalid_1's auc: 0.986932\n",
      "[300]\ttraining's auc: 0.995549\tvalid_1's auc: 0.986957\n",
      "[305]\ttraining's auc: 0.995629\tvalid_1's auc: 0.987005\n",
      "[310]\ttraining's auc: 0.995724\tvalid_1's auc: 0.987001\n",
      "[315]\ttraining's auc: 0.995778\tvalid_1's auc: 0.986979\n",
      "[320]\ttraining's auc: 0.995838\tvalid_1's auc: 0.987004\n",
      "[325]\ttraining's auc: 0.995887\tvalid_1's auc: 0.986913\n",
      "[330]\ttraining's auc: 0.995959\tvalid_1's auc: 0.98697\n",
      "[335]\ttraining's auc: 0.996019\tvalid_1's auc: 0.98693\n",
      "[340]\ttraining's auc: 0.996059\tvalid_1's auc: 0.986921\n",
      "[345]\ttraining's auc: 0.996138\tvalid_1's auc: 0.986951\n",
      "[350]\ttraining's auc: 0.996175\tvalid_1's auc: 0.986971\n",
      "[355]\ttraining's auc: 0.996201\tvalid_1's auc: 0.986874\n",
      "[360]\ttraining's auc: 0.996272\tvalid_1's auc: 0.986895\n",
      "[365]\ttraining's auc: 0.996334\tvalid_1's auc: 0.98695\n",
      "[370]\ttraining's auc: 0.996386\tvalid_1's auc: 0.986921\n",
      "[375]\ttraining's auc: 0.996404\tvalid_1's auc: 0.986939\n",
      "[380]\ttraining's auc: 0.996445\tvalid_1's auc: 0.986956\n",
      "[385]\ttraining's auc: 0.996513\tvalid_1's auc: 0.987034\n",
      "[390]\ttraining's auc: 0.996569\tvalid_1's auc: 0.987025\n",
      "[395]\ttraining's auc: 0.9966\tvalid_1's auc: 0.98704\n",
      "[400]\ttraining's auc: 0.996643\tvalid_1's auc: 0.987041\n",
      "[405]\ttraining's auc: 0.99667\tvalid_1's auc: 0.986983\n",
      "[410]\ttraining's auc: 0.996697\tvalid_1's auc: 0.986994\n",
      "[415]\ttraining's auc: 0.996748\tvalid_1's auc: 0.986962\n",
      "[420]\ttraining's auc: 0.996781\tvalid_1's auc: 0.986976\n",
      "[425]\ttraining's auc: 0.996823\tvalid_1's auc: 0.986958\n",
      "[430]\ttraining's auc: 0.996874\tvalid_1's auc: 0.987036\n",
      "[435]\ttraining's auc: 0.996921\tvalid_1's auc: 0.986989\n",
      "[440]\ttraining's auc: 0.99696\tvalid_1's auc: 0.987004\n",
      "[445]\ttraining's auc: 0.996989\tvalid_1's auc: 0.98705\n",
      "[450]\ttraining's auc: 0.997015\tvalid_1's auc: 0.987056\n",
      "[455]\ttraining's auc: 0.997071\tvalid_1's auc: 0.987094\n",
      "[460]\ttraining's auc: 0.997099\tvalid_1's auc: 0.987102\n",
      "[465]\ttraining's auc: 0.997132\tvalid_1's auc: 0.987036\n",
      "[470]\ttraining's auc: 0.997171\tvalid_1's auc: 0.987041\n",
      "[475]\ttraining's auc: 0.997215\tvalid_1's auc: 0.987089\n",
      "[480]\ttraining's auc: 0.99725\tvalid_1's auc: 0.987046\n",
      "[485]\ttraining's auc: 0.997281\tvalid_1's auc: 0.987094\n",
      "[490]\ttraining's auc: 0.997306\tvalid_1's auc: 0.987058\n",
      "[495]\ttraining's auc: 0.997342\tvalid_1's auc: 0.987039\n",
      "[500]\ttraining's auc: 0.997352\tvalid_1's auc: 0.98707\n",
      "[505]\ttraining's auc: 0.997378\tvalid_1's auc: 0.987066\n",
      "[510]\ttraining's auc: 0.997409\tvalid_1's auc: 0.987073\n",
      "[515]\ttraining's auc: 0.997429\tvalid_1's auc: 0.987069\n",
      "[520]\ttraining's auc: 0.99745\tvalid_1's auc: 0.987099\n",
      "[525]\ttraining's auc: 0.997479\tvalid_1's auc: 0.9871\n",
      "[530]\ttraining's auc: 0.997503\tvalid_1's auc: 0.9871\n",
      "[535]\ttraining's auc: 0.997536\tvalid_1's auc: 0.987085\n",
      "[540]\ttraining's auc: 0.99756\tvalid_1's auc: 0.987079\n",
      "[545]\ttraining's auc: 0.997598\tvalid_1's auc: 0.9871\n",
      "[550]\ttraining's auc: 0.997634\tvalid_1's auc: 0.987086\n",
      "[555]\ttraining's auc: 0.997654\tvalid_1's auc: 0.987085\n",
      "[560]\ttraining's auc: 0.997656\tvalid_1's auc: 0.987101\n",
      "[565]\ttraining's auc: 0.997702\tvalid_1's auc: 0.987124\n",
      "[570]\ttraining's auc: 0.997725\tvalid_1's auc: 0.98713\n",
      "[575]\ttraining's auc: 0.99776\tvalid_1's auc: 0.987132\n",
      "[580]\ttraining's auc: 0.997775\tvalid_1's auc: 0.987122\n",
      "[585]\ttraining's auc: 0.997796\tvalid_1's auc: 0.987153\n",
      "[590]\ttraining's auc: 0.997831\tvalid_1's auc: 0.987148\n",
      "[595]\ttraining's auc: 0.997864\tvalid_1's auc: 0.987161\n",
      "[600]\ttraining's auc: 0.997883\tvalid_1's auc: 0.987179\n",
      "[605]\ttraining's auc: 0.997887\tvalid_1's auc: 0.987187\n",
      "[610]\ttraining's auc: 0.997907\tvalid_1's auc: 0.987188\n",
      "[615]\ttraining's auc: 0.997924\tvalid_1's auc: 0.987187\n",
      "[620]\ttraining's auc: 0.997937\tvalid_1's auc: 0.987215\n",
      "[625]\ttraining's auc: 0.997962\tvalid_1's auc: 0.987126\n",
      "[630]\ttraining's auc: 0.997986\tvalid_1's auc: 0.987124\n",
      "[635]\ttraining's auc: 0.99801\tvalid_1's auc: 0.987132\n",
      "[640]\ttraining's auc: 0.99803\tvalid_1's auc: 0.987137\n",
      "[645]\ttraining's auc: 0.99805\tvalid_1's auc: 0.987131\n",
      "[650]\ttraining's auc: 0.998082\tvalid_1's auc: 0.987126\n",
      "[655]\ttraining's auc: 0.998117\tvalid_1's auc: 0.987155\n",
      "[660]\ttraining's auc: 0.998115\tvalid_1's auc: 0.987182\n",
      "[665]\ttraining's auc: 0.998138\tvalid_1's auc: 0.987175\n",
      "[670]\ttraining's auc: 0.998173\tvalid_1's auc: 0.987154\n",
      "[675]\ttraining's auc: 0.998215\tvalid_1's auc: 0.987148\n",
      "[680]\ttraining's auc: 0.998233\tvalid_1's auc: 0.98716\n",
      "[685]\ttraining's auc: 0.998263\tvalid_1's auc: 0.987174\n",
      "[690]\ttraining's auc: 0.998278\tvalid_1's auc: 0.9871\n",
      "[695]\ttraining's auc: 0.998287\tvalid_1's auc: 0.98708\n",
      "[700]\ttraining's auc: 0.998315\tvalid_1's auc: 0.987081\n",
      "[705]\ttraining's auc: 0.998339\tvalid_1's auc: 0.987026\n",
      "[710]\ttraining's auc: 0.998358\tvalid_1's auc: 0.987011\n",
      "[715]\ttraining's auc: 0.998368\tvalid_1's auc: 0.987016\n",
      "[720]\ttraining's auc: 0.998387\tvalid_1's auc: 0.987035\n",
      "[725]\ttraining's auc: 0.998403\tvalid_1's auc: 0.987011\n",
      "[730]\ttraining's auc: 0.99842\tvalid_1's auc: 0.98702\n",
      "[735]\ttraining's auc: 0.998438\tvalid_1's auc: 0.987049\n",
      "[740]\ttraining's auc: 0.998453\tvalid_1's auc: 0.987016\n",
      "[745]\ttraining's auc: 0.998479\tvalid_1's auc: 0.987033\n",
      "[750]\ttraining's auc: 0.998478\tvalid_1's auc: 0.986995\n",
      "[755]\ttraining's auc: 0.998489\tvalid_1's auc: 0.987053\n"
     ]
    },
    {
     "name": "stdout",
     "output_type": "stream",
     "text": [
      "[760]\ttraining's auc: 0.998511\tvalid_1's auc: 0.987037\n",
      "[765]\ttraining's auc: 0.998515\tvalid_1's auc: 0.987025\n",
      "[770]\ttraining's auc: 0.998547\tvalid_1's auc: 0.987067\n",
      "[775]\ttraining's auc: 0.998563\tvalid_1's auc: 0.987097\n",
      "[780]\ttraining's auc: 0.99857\tvalid_1's auc: 0.987091\n",
      "[785]\ttraining's auc: 0.998574\tvalid_1's auc: 0.987094\n",
      "[790]\ttraining's auc: 0.998581\tvalid_1's auc: 0.98707\n",
      "[795]\ttraining's auc: 0.998596\tvalid_1's auc: 0.987076\n",
      "[800]\ttraining's auc: 0.998593\tvalid_1's auc: 0.98704\n",
      "[805]\ttraining's auc: 0.998609\tvalid_1's auc: 0.987032\n",
      "[810]\ttraining's auc: 0.998628\tvalid_1's auc: 0.986993\n",
      "[815]\ttraining's auc: 0.998662\tvalid_1's auc: 0.987013\n",
      "[820]\ttraining's auc: 0.998672\tvalid_1's auc: 0.986979\n",
      "[825]\ttraining's auc: 0.998684\tvalid_1's auc: 0.986953\n",
      "[830]\ttraining's auc: 0.998691\tvalid_1's auc: 0.986957\n",
      "[835]\ttraining's auc: 0.998726\tvalid_1's auc: 0.987002\n",
      "[840]\ttraining's auc: 0.998741\tvalid_1's auc: 0.987006\n",
      "[845]\ttraining's auc: 0.998746\tvalid_1's auc: 0.986929\n",
      "[850]\ttraining's auc: 0.998755\tvalid_1's auc: 0.986922\n",
      "[855]\ttraining's auc: 0.998763\tvalid_1's auc: 0.986895\n",
      "[860]\ttraining's auc: 0.998784\tvalid_1's auc: 0.986881\n",
      "[865]\ttraining's auc: 0.998797\tvalid_1's auc: 0.98687\n",
      "[870]\ttraining's auc: 0.998808\tvalid_1's auc: 0.98691\n",
      "[875]\ttraining's auc: 0.998818\tvalid_1's auc: 0.986861\n",
      "[880]\ttraining's auc: 0.998837\tvalid_1's auc: 0.986867\n",
      "[885]\ttraining's auc: 0.998853\tvalid_1's auc: 0.986823\n",
      "[890]\ttraining's auc: 0.998868\tvalid_1's auc: 0.986808\n",
      "[895]\ttraining's auc: 0.99888\tvalid_1's auc: 0.986816\n",
      "[900]\ttraining's auc: 0.998884\tvalid_1's auc: 0.986797\n",
      "[905]\ttraining's auc: 0.998903\tvalid_1's auc: 0.986772\n",
      "[910]\ttraining's auc: 0.998919\tvalid_1's auc: 0.98679\n",
      "[915]\ttraining's auc: 0.998938\tvalid_1's auc: 0.986826\n",
      "[920]\ttraining's auc: 0.998949\tvalid_1's auc: 0.986824\n",
      "[925]\ttraining's auc: 0.998965\tvalid_1's auc: 0.986824\n",
      "[930]\ttraining's auc: 0.998975\tvalid_1's auc: 0.986827\n",
      "[935]\ttraining's auc: 0.998984\tvalid_1's auc: 0.986832\n",
      "[940]\ttraining's auc: 0.998998\tvalid_1's auc: 0.986799\n",
      "[945]\ttraining's auc: 0.999002\tvalid_1's auc: 0.986798\n",
      "[950]\ttraining's auc: 0.999021\tvalid_1's auc: 0.986814\n",
      "[955]\ttraining's auc: 0.999028\tvalid_1's auc: 0.986813\n",
      "[960]\ttraining's auc: 0.999033\tvalid_1's auc: 0.986844\n",
      "[965]\ttraining's auc: 0.99904\tvalid_1's auc: 0.986838\n",
      "[970]\ttraining's auc: 0.999047\tvalid_1's auc: 0.986836\n",
      "[975]\ttraining's auc: 0.999063\tvalid_1's auc: 0.986863\n",
      "[980]\ttraining's auc: 0.999071\tvalid_1's auc: 0.986831\n",
      "[985]\ttraining's auc: 0.999069\tvalid_1's auc: 0.986841\n",
      "[990]\ttraining's auc: 0.999079\tvalid_1's auc: 0.986845\n",
      "[995]\ttraining's auc: 0.999098\tvalid_1's auc: 0.986868\n",
      "[1000]\ttraining's auc: 0.999108\tvalid_1's auc: 0.986881\n",
      "[1005]\ttraining's auc: 0.99912\tvalid_1's auc: 0.986869\n",
      "[1010]\ttraining's auc: 0.999122\tvalid_1's auc: 0.986879\n",
      "[1015]\ttraining's auc: 0.99914\tvalid_1's auc: 0.986892\n",
      "[1020]\ttraining's auc: 0.999143\tvalid_1's auc: 0.98688\n",
      "[1025]\ttraining's auc: 0.99915\tvalid_1's auc: 0.986859\n",
      "[1030]\ttraining's auc: 0.999159\tvalid_1's auc: 0.98687\n",
      "[1035]\ttraining's auc: 0.999177\tvalid_1's auc: 0.986851\n",
      "[1040]\ttraining's auc: 0.999194\tvalid_1's auc: 0.986818\n",
      "[1045]\ttraining's auc: 0.999202\tvalid_1's auc: 0.986832\n",
      "[1050]\ttraining's auc: 0.999207\tvalid_1's auc: 0.986813\n",
      "[1055]\ttraining's auc: 0.999217\tvalid_1's auc: 0.986824\n",
      "[1060]\ttraining's auc: 0.999234\tvalid_1's auc: 0.986806\n",
      "[1065]\ttraining's auc: 0.99924\tvalid_1's auc: 0.98681\n",
      "[1070]\ttraining's auc: 0.999251\tvalid_1's auc: 0.986791\n",
      "[1075]\ttraining's auc: 0.999259\tvalid_1's auc: 0.986815\n",
      "[1080]\ttraining's auc: 0.99927\tvalid_1's auc: 0.986821\n",
      "[1085]\ttraining's auc: 0.999274\tvalid_1's auc: 0.986819\n",
      "[1090]\ttraining's auc: 0.999275\tvalid_1's auc: 0.986814\n",
      "[1095]\ttraining's auc: 0.999278\tvalid_1's auc: 0.986785\n",
      "[1100]\ttraining's auc: 0.999287\tvalid_1's auc: 0.986782\n",
      "[1105]\ttraining's auc: 0.999293\tvalid_1's auc: 0.986767\n",
      "[1110]\ttraining's auc: 0.999297\tvalid_1's auc: 0.986749\n",
      "[1115]\ttraining's auc: 0.999306\tvalid_1's auc: 0.986631\n",
      "[1120]\ttraining's auc: 0.999308\tvalid_1's auc: 0.986639\n",
      "[1125]\ttraining's auc: 0.999314\tvalid_1's auc: 0.986622\n",
      "[1130]\ttraining's auc: 0.999327\tvalid_1's auc: 0.986645\n",
      "[1135]\ttraining's auc: 0.99933\tvalid_1's auc: 0.986659\n",
      "[1140]\ttraining's auc: 0.999336\tvalid_1's auc: 0.986655\n",
      "[1145]\ttraining's auc: 0.99936\tvalid_1's auc: 0.986662\n",
      "[1150]\ttraining's auc: 0.99937\tvalid_1's auc: 0.986658\n",
      "[1155]\ttraining's auc: 0.999384\tvalid_1's auc: 0.986668\n",
      "[1160]\ttraining's auc: 0.9994\tvalid_1's auc: 0.986663\n",
      "[1165]\ttraining's auc: 0.999409\tvalid_1's auc: 0.986604\n",
      "[1170]\ttraining's auc: 0.999412\tvalid_1's auc: 0.986627\n",
      "[1175]\ttraining's auc: 0.999425\tvalid_1's auc: 0.986613\n",
      "[1180]\ttraining's auc: 0.999431\tvalid_1's auc: 0.986599\n",
      "[1185]\ttraining's auc: 0.999433\tvalid_1's auc: 0.986576\n",
      "[1190]\ttraining's auc: 0.999446\tvalid_1's auc: 0.986572\n",
      "[1195]\ttraining's auc: 0.999448\tvalid_1's auc: 0.986586\n",
      "[1200]\ttraining's auc: 0.999449\tvalid_1's auc: 0.986609\n",
      "[1205]\ttraining's auc: 0.999455\tvalid_1's auc: 0.986602\n",
      "[1210]\ttraining's auc: 0.99947\tvalid_1's auc: 0.986548\n",
      "[1215]\ttraining's auc: 0.999476\tvalid_1's auc: 0.986478\n",
      "[1220]\ttraining's auc: 0.99948\tvalid_1's auc: 0.986479\n",
      "[1225]\ttraining's auc: 0.999485\tvalid_1's auc: 0.986454\n",
      "[1230]\ttraining's auc: 0.999493\tvalid_1's auc: 0.986446\n",
      "[1235]\ttraining's auc: 0.999491\tvalid_1's auc: 0.986419\n",
      "[1240]\ttraining's auc: 0.999493\tvalid_1's auc: 0.986381\n",
      "[1245]\ttraining's auc: 0.999499\tvalid_1's auc: 0.986354\n",
      "[1250]\ttraining's auc: 0.999501\tvalid_1's auc: 0.98635\n",
      "[1255]\ttraining's auc: 0.999509\tvalid_1's auc: 0.986303\n",
      "[1260]\ttraining's auc: 0.999507\tvalid_1's auc: 0.986281\n",
      "[1265]\ttraining's auc: 0.999513\tvalid_1's auc: 0.986291\n",
      "[1270]\ttraining's auc: 0.999519\tvalid_1's auc: 0.986285\n",
      "[1275]\ttraining's auc: 0.999527\tvalid_1's auc: 0.986275\n",
      "[1280]\ttraining's auc: 0.999534\tvalid_1's auc: 0.986269\n",
      "[1285]\ttraining's auc: 0.999537\tvalid_1's auc: 0.986275\n",
      "[1290]\ttraining's auc: 0.999538\tvalid_1's auc: 0.986296\n",
      "[1295]\ttraining's auc: 0.999549\tvalid_1's auc: 0.986307\n",
      "[1300]\ttraining's auc: 0.999555\tvalid_1's auc: 0.986335\n",
      "[1305]\ttraining's auc: 0.999558\tvalid_1's auc: 0.986326\n",
      "[1310]\ttraining's auc: 0.999565\tvalid_1's auc: 0.986279\n",
      "[1315]\ttraining's auc: 0.999569\tvalid_1's auc: 0.986271\n",
      "[1320]\ttraining's auc: 0.999573\tvalid_1's auc: 0.986249\n",
      "[1325]\ttraining's auc: 0.999575\tvalid_1's auc: 0.986272\n",
      "[1330]\ttraining's auc: 0.999578\tvalid_1's auc: 0.986312\n",
      "[1335]\ttraining's auc: 0.99958\tvalid_1's auc: 0.986335\n",
      "[1340]\ttraining's auc: 0.999585\tvalid_1's auc: 0.986362\n",
      "[1345]\ttraining's auc: 0.99959\tvalid_1's auc: 0.986311\n",
      "[1350]\ttraining's auc: 0.999593\tvalid_1's auc: 0.986254\n",
      "[1355]\ttraining's auc: 0.999598\tvalid_1's auc: 0.986266\n",
      "[1360]\ttraining's auc: 0.999606\tvalid_1's auc: 0.986281\n",
      "[1365]\ttraining's auc: 0.999609\tvalid_1's auc: 0.986298\n",
      "[1370]\ttraining's auc: 0.999609\tvalid_1's auc: 0.98632\n",
      "[1375]\ttraining's auc: 0.999619\tvalid_1's auc: 0.986314\n",
      "[1380]\ttraining's auc: 0.999621\tvalid_1's auc: 0.986291\n",
      "[1385]\ttraining's auc: 0.999629\tvalid_1's auc: 0.986266\n",
      "[1390]\ttraining's auc: 0.999636\tvalid_1's auc: 0.986292\n",
      "[1395]\ttraining's auc: 0.999638\tvalid_1's auc: 0.986295\n",
      "[1400]\ttraining's auc: 0.999639\tvalid_1's auc: 0.986257\n",
      "[1405]\ttraining's auc: 0.999641\tvalid_1's auc: 0.986281\n",
      "[1410]\ttraining's auc: 0.99964\tvalid_1's auc: 0.986343\n",
      "[1415]\ttraining's auc: 0.999646\tvalid_1's auc: 0.986345\n",
      "[1420]\ttraining's auc: 0.999646\tvalid_1's auc: 0.98636\n",
      "[1425]\ttraining's auc: 0.999648\tvalid_1's auc: 0.986342\n",
      "[1430]\ttraining's auc: 0.999651\tvalid_1's auc: 0.986288\n",
      "[1435]\ttraining's auc: 0.999656\tvalid_1's auc: 0.986274\n",
      "[1440]\ttraining's auc: 0.99966\tvalid_1's auc: 0.986286\n",
      "[1445]\ttraining's auc: 0.999664\tvalid_1's auc: 0.986274\n",
      "[1450]\ttraining's auc: 0.999668\tvalid_1's auc: 0.986287\n",
      "[1455]\ttraining's auc: 0.999675\tvalid_1's auc: 0.986301\n",
      "[1460]\ttraining's auc: 0.99968\tvalid_1's auc: 0.98629\n",
      "[1465]\ttraining's auc: 0.999684\tvalid_1's auc: 0.986245\n",
      "[1470]\ttraining's auc: 0.999693\tvalid_1's auc: 0.986202\n",
      "[1475]\ttraining's auc: 0.999694\tvalid_1's auc: 0.986236\n",
      "[1480]\ttraining's auc: 0.999698\tvalid_1's auc: 0.986243\n",
      "[1485]\ttraining's auc: 0.999699\tvalid_1's auc: 0.986224\n",
      "[1490]\ttraining's auc: 0.999705\tvalid_1's auc: 0.986211\n",
      "[1495]\ttraining's auc: 0.999708\tvalid_1's auc: 0.986201\n",
      "[1500]\ttraining's auc: 0.999714\tvalid_1's auc: 0.986266\n"
     ]
    },
    {
     "name": "stdout",
     "output_type": "stream",
     "text": [
      "[1505]\ttraining's auc: 0.999716\tvalid_1's auc: 0.98626\n",
      "[1510]\ttraining's auc: 0.999719\tvalid_1's auc: 0.986287\n",
      "[1515]\ttraining's auc: 0.999723\tvalid_1's auc: 0.986241\n",
      "[1520]\ttraining's auc: 0.999732\tvalid_1's auc: 0.986217\n",
      "[1525]\ttraining's auc: 0.99974\tvalid_1's auc: 0.986223\n",
      "[1530]\ttraining's auc: 0.999743\tvalid_1's auc: 0.986223\n",
      "[1535]\ttraining's auc: 0.999743\tvalid_1's auc: 0.986237\n",
      "[1540]\ttraining's auc: 0.999745\tvalid_1's auc: 0.986271\n",
      "[1545]\ttraining's auc: 0.999744\tvalid_1's auc: 0.986256\n",
      "[1550]\ttraining's auc: 0.999745\tvalid_1's auc: 0.986261\n",
      "[1555]\ttraining's auc: 0.999745\tvalid_1's auc: 0.986265\n",
      "[1560]\ttraining's auc: 0.999746\tvalid_1's auc: 0.98627\n",
      "[1565]\ttraining's auc: 0.999749\tvalid_1's auc: 0.986278\n",
      "[1570]\ttraining's auc: 0.999753\tvalid_1's auc: 0.986241\n",
      "[1575]\ttraining's auc: 0.999756\tvalid_1's auc: 0.986235\n",
      "[1580]\ttraining's auc: 0.999753\tvalid_1's auc: 0.986201\n",
      "[1585]\ttraining's auc: 0.999755\tvalid_1's auc: 0.986212\n",
      "[1590]\ttraining's auc: 0.999755\tvalid_1's auc: 0.986198\n",
      "[1595]\ttraining's auc: 0.999758\tvalid_1's auc: 0.986241\n",
      "[1600]\ttraining's auc: 0.999764\tvalid_1's auc: 0.986255\n",
      "[1605]\ttraining's auc: 0.999771\tvalid_1's auc: 0.986257\n",
      "[1610]\ttraining's auc: 0.999773\tvalid_1's auc: 0.986283\n",
      "[1615]\ttraining's auc: 0.999778\tvalid_1's auc: 0.986252\n",
      "[1620]\ttraining's auc: 0.99978\tvalid_1's auc: 0.986241\n",
      "[1625]\ttraining's auc: 0.999786\tvalid_1's auc: 0.986249\n",
      "[1630]\ttraining's auc: 0.999785\tvalid_1's auc: 0.986273\n",
      "[1635]\ttraining's auc: 0.999789\tvalid_1's auc: 0.986264\n",
      "[1640]\ttraining's auc: 0.99979\tvalid_1's auc: 0.986278\n",
      "[1645]\ttraining's auc: 0.999793\tvalid_1's auc: 0.986277\n",
      "[1650]\ttraining's auc: 0.999793\tvalid_1's auc: 0.986278\n",
      "[1655]\ttraining's auc: 0.999796\tvalid_1's auc: 0.986277\n",
      "[1660]\ttraining's auc: 0.999794\tvalid_1's auc: 0.986291\n",
      "[1665]\ttraining's auc: 0.999792\tvalid_1's auc: 0.986309\n",
      "[1670]\ttraining's auc: 0.999796\tvalid_1's auc: 0.986311\n",
      "[1675]\ttraining's auc: 0.999799\tvalid_1's auc: 0.986328\n",
      "[1680]\ttraining's auc: 0.999801\tvalid_1's auc: 0.986319\n",
      "[1685]\ttraining's auc: 0.999804\tvalid_1's auc: 0.986303\n",
      "[1690]\ttraining's auc: 0.999809\tvalid_1's auc: 0.986327\n",
      "[1695]\ttraining's auc: 0.99981\tvalid_1's auc: 0.986331\n",
      "[1700]\ttraining's auc: 0.999809\tvalid_1's auc: 0.986312\n",
      "[1705]\ttraining's auc: 0.999809\tvalid_1's auc: 0.986286\n",
      "[1710]\ttraining's auc: 0.999812\tvalid_1's auc: 0.986305\n",
      "[1715]\ttraining's auc: 0.999813\tvalid_1's auc: 0.986321\n",
      "[1720]\ttraining's auc: 0.999815\tvalid_1's auc: 0.98633\n",
      "[1725]\ttraining's auc: 0.99981\tvalid_1's auc: 0.98633\n",
      "[1730]\ttraining's auc: 0.999817\tvalid_1's auc: 0.98633\n",
      "[1735]\ttraining's auc: 0.99982\tvalid_1's auc: 0.986345\n",
      "[1740]\ttraining's auc: 0.99982\tvalid_1's auc: 0.986347\n",
      "[1745]\ttraining's auc: 0.999823\tvalid_1's auc: 0.986337\n",
      "[1750]\ttraining's auc: 0.999821\tvalid_1's auc: 0.986344\n",
      "[1755]\ttraining's auc: 0.999823\tvalid_1's auc: 0.986335\n",
      "[1760]\ttraining's auc: 0.999826\tvalid_1's auc: 0.986276\n",
      "[1765]\ttraining's auc: 0.999825\tvalid_1's auc: 0.986268\n",
      "[1770]\ttraining's auc: 0.999831\tvalid_1's auc: 0.986238\n",
      "[1775]\ttraining's auc: 0.999835\tvalid_1's auc: 0.98619\n",
      "[1780]\ttraining's auc: 0.999838\tvalid_1's auc: 0.986186\n",
      "[1785]\ttraining's auc: 0.999838\tvalid_1's auc: 0.986188\n",
      "[1790]\ttraining's auc: 0.999841\tvalid_1's auc: 0.986192\n",
      "[1795]\ttraining's auc: 0.999846\tvalid_1's auc: 0.986201\n",
      "[1800]\ttraining's auc: 0.999845\tvalid_1's auc: 0.986225\n",
      "[1805]\ttraining's auc: 0.999847\tvalid_1's auc: 0.986219\n",
      "[1810]\ttraining's auc: 0.999851\tvalid_1's auc: 0.986199\n",
      "[1815]\ttraining's auc: 0.999854\tvalid_1's auc: 0.986171\n",
      "[1820]\ttraining's auc: 0.999853\tvalid_1's auc: 0.986143\n",
      "[1825]\ttraining's auc: 0.999854\tvalid_1's auc: 0.986113\n",
      "[1830]\ttraining's auc: 0.999857\tvalid_1's auc: 0.986127\n",
      "[1835]\ttraining's auc: 0.999856\tvalid_1's auc: 0.986138\n",
      "[1840]\ttraining's auc: 0.999857\tvalid_1's auc: 0.986148\n",
      "[1845]\ttraining's auc: 0.99986\tvalid_1's auc: 0.986211\n",
      "[1850]\ttraining's auc: 0.99986\tvalid_1's auc: 0.986197\n",
      "[1855]\ttraining's auc: 0.999862\tvalid_1's auc: 0.986177\n",
      "[1860]\ttraining's auc: 0.99986\tvalid_1's auc: 0.986183\n",
      "[1865]\ttraining's auc: 0.999861\tvalid_1's auc: 0.98617\n",
      "[1870]\ttraining's auc: 0.999862\tvalid_1's auc: 0.98616\n",
      "[1875]\ttraining's auc: 0.999861\tvalid_1's auc: 0.986163\n",
      "[1880]\ttraining's auc: 0.999862\tvalid_1's auc: 0.986138\n",
      "[1885]\ttraining's auc: 0.999862\tvalid_1's auc: 0.986138\n",
      "[1890]\ttraining's auc: 0.999866\tvalid_1's auc: 0.986081\n",
      "[1895]\ttraining's auc: 0.999865\tvalid_1's auc: 0.986047\n",
      "[1900]\ttraining's auc: 0.999867\tvalid_1's auc: 0.986006\n",
      "[1905]\ttraining's auc: 0.999871\tvalid_1's auc: 0.985968\n",
      "[1910]\ttraining's auc: 0.999875\tvalid_1's auc: 0.985955\n",
      "[1915]\ttraining's auc: 0.999878\tvalid_1's auc: 0.985955\n",
      "[1920]\ttraining's auc: 0.999877\tvalid_1's auc: 0.985919\n",
      "[1925]\ttraining's auc: 0.999881\tvalid_1's auc: 0.985913\n",
      "[1930]\ttraining's auc: 0.999885\tvalid_1's auc: 0.985905\n",
      "[1935]\ttraining's auc: 0.999888\tvalid_1's auc: 0.985931\n",
      "[1940]\ttraining's auc: 0.999889\tvalid_1's auc: 0.985928\n",
      "[1945]\ttraining's auc: 0.999892\tvalid_1's auc: 0.985954\n",
      "[1950]\ttraining's auc: 0.999895\tvalid_1's auc: 0.985923\n",
      "[1955]\ttraining's auc: 0.999896\tvalid_1's auc: 0.985929\n",
      "[1960]\ttraining's auc: 0.999895\tvalid_1's auc: 0.98592\n",
      "[1965]\ttraining's auc: 0.999896\tvalid_1's auc: 0.985902\n",
      "[1970]\ttraining's auc: 0.999901\tvalid_1's auc: 0.985899\n",
      "[1975]\ttraining's auc: 0.999905\tvalid_1's auc: 0.985871\n",
      "[1980]\ttraining's auc: 0.999907\tvalid_1's auc: 0.985894\n",
      "[1985]\ttraining's auc: 0.999904\tvalid_1's auc: 0.985849\n",
      "[1990]\ttraining's auc: 0.999905\tvalid_1's auc: 0.985855\n",
      "[1995]\ttraining's auc: 0.999907\tvalid_1's auc: 0.985837\n",
      "[2000]\ttraining's auc: 0.999908\tvalid_1's auc: 0.985858\n"
     ]
    }
   ],
   "source": [
    "lgb_train = lgb.Dataset(X_train, Y_train)\n",
    "lgb_eval = lgb.Dataset(X_eval, Y_eval, reference= lgb_train)\n",
    "lgb_total = lgb.Dataset(X,Y)\n",
    "\n",
    "params = {\n",
    "    'task': 'train',\n",
    "    'boosting_type': 'gbdt',\n",
    "    'objective': 'binary',\n",
    "    'metric': 'auc',\n",
    "    'num_leaves': 8,\n",
    "    'learning_rate': 0.05,\n",
    "    'feature_fraction': 0.9,\n",
    "    'bagging_fraction': 0.9,\n",
    "    'bagging_freq': 3,\n",
    "    'verbose': 1,\n",
    "    'max_depth':3,\n",
    "    'scale_pos_weight': 5\n",
    "}\n",
    "\n",
    "evals_result = {} # to record eval results for plotting\n",
    "model = lgb.train(params,\n",
    "                lgb_train,\n",
    "                num_boost_round=2000,\n",
    "                valid_sets= (lgb_train,lgb_eval),\n",
    "                verbose_eval=5,\n",
    "                #feval= mean_absolute_percentage_error, \n",
    "                evals_result=evals_result,\n",
    "                early_stopping_rounds=20\n",
    "                 )"
   ]
  },
  {
   "cell_type": "code",
   "execution_count": 297,
   "metadata": {},
   "outputs": [],
   "source": [
    "y_test_pred = model.predict(X_test)\n",
    "y_train_pred = model.predict(X_train)\n",
    "y_eval_pred = model.predict(X_eval)"
   ]
  },
  {
   "cell_type": "code",
   "execution_count": 298,
   "metadata": {},
   "outputs": [
    {
     "data": {
      "text/plain": [
       "(0.9969666799572598, 0.9876682552101856)"
      ]
     },
     "execution_count": 298,
     "metadata": {},
     "output_type": "execute_result"
    }
   ],
   "source": [
    "roc_auc_score(Y_train, y_train_pred), roc_auc_score(Y_eval, y_eval_pred)"
   ]
  },
  {
   "cell_type": "code",
   "execution_count": 299,
   "metadata": {},
   "outputs": [
    {
     "data": {
      "text/plain": [
       "(0.9638260624812047, 0.9656249644972337, 0.952692847536894)"
      ]
     },
     "execution_count": 299,
     "metadata": {},
     "output_type": "execute_result"
    }
   ],
   "source": [
    "np.max(y_train_pred), np.max(y_eval_pred), np.max(y_test_pred)"
   ]
  },
  {
   "cell_type": "code",
   "execution_count": 300,
   "metadata": {},
   "outputs": [],
   "source": [
    "submit = pd.read_csv('sample_submission_Byiv0dS.csv')"
   ]
  },
  {
   "cell_type": "code",
   "execution_count": 301,
   "metadata": {},
   "outputs": [],
   "source": [
    "submit.redemption_status = y_test_pred"
   ]
  },
  {
   "cell_type": "code",
   "execution_count": 302,
   "metadata": {},
   "outputs": [
    {
     "data": {
      "text/plain": [
       "(4.7173894784989137e-07, 0.952692847536894)"
      ]
     },
     "execution_count": 302,
     "metadata": {},
     "output_type": "execute_result"
    }
   ],
   "source": [
    "submit.redemption_status.min(), submit.redemption_status.max()"
   ]
  },
  {
   "cell_type": "code",
   "execution_count": 303,
   "metadata": {},
   "outputs": [],
   "source": [
    "submit.to_csv('submission_20_ap.csv', index= False)"
   ]
  },
  {
   "cell_type": "code",
   "execution_count": 304,
   "metadata": {},
   "outputs": [],
   "source": [
    "import matplotlib.pyplot as plt\n",
    "import seaborn as sns\n",
    "import warnings\n",
    "warnings.simplefilter(action='ignore', category=FutureWarning)\n",
    "\n",
    "def plotImp(model, X , num = 20):\n",
    "    feature_imp = pd.DataFrame(sorted(zip(model.feature_importance(),X.columns)), \n",
    "                               columns=['Value','Feature'])\n",
    "    plt.figure(figsize=(40, 20))\n",
    "    sns.set(font_scale = 5)\n",
    "    sns.barplot(x=\"Value\", y=\"Feature\", data=feature_imp.sort_values(by=\"Value\", \n",
    "                                                        ascending=False)[0:num])\n",
    "    plt.title('LightGBM Features (avg over folds)')\n",
    "    plt.tight_layout()\n",
    "    plt.show()\n",
    "    plt.savefig('lgbm_importances-01.png')"
   ]
  },
  {
   "cell_type": "code",
   "execution_count": 305,
   "metadata": {},
   "outputs": [
    {
     "data": {
      "image/png": "[encoded data removed]",
      "text/plain": [
       "<Figure size 2880x1440 with 1 Axes>"
      ]
     },
     "metadata": {},
     "output_type": "display_data"
    },
    {
     "data": {
      "text/plain": [
       "<Figure size 432x288 with 0 Axes>"
      ]
     },
     "metadata": {},
     "output_type": "display_data"
    }
   ],
   "source": [
    "plotImp(model, X_train, 25)"
   ]
  },
  {
   "cell_type": "code",
   "execution_count": 309,
   "metadata": {
    "scrolled": false
   },
   "outputs": [
    {
     "data": {
      "text/plain": [
       "total_selling_price                            False\n",
       "total_quantity                                 False\n",
       "mean_selling_price                             False\n",
       "mean_std_dev                                   False\n",
       "max_selling_price                              False\n",
       "median_selling_price                           False\n",
       "mean_other_discont                             False\n",
       "value_other_discount                           False\n",
       "mean_coupon_discont                            False\n",
       "value_coupon_discount                          False\n",
       "sum_quantity_Alcohol                           False\n",
       "sum_quantity_Bakery                            False\n",
       "sum_quantity_Dairy, Juices & Snacks            False\n",
       "sum_quantity_Flowers & Plants                  False\n",
       "sum_quantity_Fuel                              False\n",
       "sum_quantity_Garden                            False\n",
       "sum_quantity_Grocery                           False\n",
       "sum_quantity_Meat                              False\n",
       "sum_quantity_Miscellaneous                     False\n",
       "sum_quantity_Natural Products                  False\n",
       "sum_quantity_Packaged Meat                     False\n",
       "sum_quantity_Pharmaceutical                    False\n",
       "sum_quantity_Prepared Food                     False\n",
       "sum_quantity_Restauarant                       False\n",
       "sum_quantity_Salads                            False\n",
       "sum_quantity_Seafood                           False\n",
       "sum_quantity_Skin & Hair Care                  False\n",
       "sum_quantity_Travel                            False\n",
       "sum_quantity_Vegetables (cut)                  False\n",
       "sum_total_price_Alcohol                        False\n",
       "sum_total_price_Bakery                         False\n",
       "sum_total_price_Dairy, Juices & Snacks         False\n",
       "sum_total_price_Flowers & Plants               False\n",
       "sum_total_price_Fuel                           False\n",
       "sum_total_price_Garden                         False\n",
       "sum_total_price_Grocery                        False\n",
       "sum_total_price_Meat                           False\n",
       "sum_total_price_Miscellaneous                  False\n",
       "sum_total_price_Natural Products               False\n",
       "sum_total_price_Packaged Meat                  False\n",
       "sum_total_price_Pharmaceutical                 False\n",
       "sum_total_price_Prepared Food                  False\n",
       "sum_total_price_Restauarant                    False\n",
       "sum_total_price_Salads                         False\n",
       "sum_total_price_Seafood                        False\n",
       "sum_total_price_Skin & Hair Care               False\n",
       "sum_total_price_Travel                         False\n",
       "sum_total_price_Vegetables (cut)               False\n",
       "sum_quantity_Established                       False\n",
       "sum_quantity_Local                             False\n",
       "sum_total_price_Established                    False\n",
       "sum_total_price_Local                          False\n",
       "rented                                         False\n",
       "income_bracket                                 False\n",
       "campaign_duration                              False\n",
       "season                                         False\n",
       "no_Shopped_days_aff                            False\n",
       "no_shopped_items_aff                           False\n",
       "no_shopped_brands_aff                          False\n",
       "no_shopped_category_aff                        False\n",
       "total_quantity_shopped_aff                     False\n",
       "total_selling_price_aff                        False\n",
       "total_shopped_price_aff                        False\n",
       "value_other_discont_aff                        False\n",
       "value_coupon_discount_aff                      False\n",
       "('no_brand', 'Established')                    False\n",
       "('no_brand', 'Local')                          False\n",
       "('no_category', 'Established')                 False\n",
       "('no_category', 'Local')                       False\n",
       "('no_items', 'Established')                    False\n",
       "('no_items', 'Local')                          False\n",
       "('diff_days', 'mean')                          False\n",
       "('diff_days', 'max')                           False\n",
       "('diff_days', 'min')                           False\n",
       "Jaccard                                        False\n",
       "Jaccard_brand                                  False\n",
       "Bakery                                         False\n",
       "Dairy, Juices & Snacks                         False\n",
       "Flowers & Plants                               False\n",
       "Garden                                         False\n",
       "Grocery                                        False\n",
       "Meat                                           False\n",
       "Miscellaneous                                  False\n",
       "Natural Products                               False\n",
       "Packaged Meat                                  False\n",
       "Pharmaceutical                                 False\n",
       "Prepared Food                                  False\n",
       "Restauarant                                    False\n",
       "Salads                                         False\n",
       "Seafood                                        False\n",
       "Skin & Hair Care                               False\n",
       "Travel                                         False\n",
       "Vegetables (cut)                               False\n",
       "most_bought_category_Dairy, Juices & Snacks    False\n",
       "most_bought_category_Grocery                   False\n",
       "most_bought_category_Packaged Meat             False\n",
       "most_bought_category_Pharmaceutical            False\n",
       "age_range_18-25                                False\n",
       "age_range_26-35                                False\n",
       "age_range_36-45                                False\n",
       "age_range_46-55                                False\n",
       "age_range_56-70                                False\n",
       "age_range_70+                                  False\n",
       "marital_status_Married                         False\n",
       "marital_status_NoData                          False\n",
       "marital_status_Single                          False\n",
       "family_size_1                                  False\n",
       "family_size_2                                  False\n",
       "family_size_3                                  False\n",
       "family_size_4                                  False\n",
       "family_size_5+                                 False\n",
       "no_of_children_1                               False\n",
       "no_of_children_2                               False\n",
       "no_of_children_3+                              False\n",
       "no_of_children_NoData                          False\n",
       "campaign_type_X                                False\n",
       "campaign_type_Y                                False\n",
       "dtype: bool"
      ]
     },
     "execution_count": 309,
     "metadata": {},
     "output_type": "execute_result"
    }
   ],
   "source": [
    "X_test.isna().sum() == X_test.shape[0]"
   ]
  },
  {
   "cell_type": "code",
   "execution_count": 308,
   "metadata": {},
   "outputs": [
    {
     "data": {
      "text/plain": [
       "total_selling_price                            False\n",
       "total_quantity                                 False\n",
       "mean_selling_price                             False\n",
       "mean_std_dev                                   False\n",
       "max_selling_price                              False\n",
       "median_selling_price                           False\n",
       "mean_other_discont                             False\n",
       "value_other_discount                           False\n",
       "mean_coupon_discont                            False\n",
       "value_coupon_discount                          False\n",
       "sum_quantity_Alcohol                           False\n",
       "sum_quantity_Bakery                            False\n",
       "sum_quantity_Dairy, Juices & Snacks            False\n",
       "sum_quantity_Flowers & Plants                  False\n",
       "sum_quantity_Fuel                              False\n",
       "sum_quantity_Garden                            False\n",
       "sum_quantity_Grocery                           False\n",
       "sum_quantity_Meat                              False\n",
       "sum_quantity_Miscellaneous                     False\n",
       "sum_quantity_Natural Products                  False\n",
       "sum_quantity_Packaged Meat                     False\n",
       "sum_quantity_Pharmaceutical                    False\n",
       "sum_quantity_Prepared Food                     False\n",
       "sum_quantity_Restauarant                       False\n",
       "sum_quantity_Salads                            False\n",
       "sum_quantity_Seafood                           False\n",
       "sum_quantity_Skin & Hair Care                  False\n",
       "sum_quantity_Travel                            False\n",
       "sum_quantity_Vegetables (cut)                  False\n",
       "sum_total_price_Alcohol                        False\n",
       "sum_total_price_Bakery                         False\n",
       "sum_total_price_Dairy, Juices & Snacks         False\n",
       "sum_total_price_Flowers & Plants               False\n",
       "sum_total_price_Fuel                           False\n",
       "sum_total_price_Garden                         False\n",
       "sum_total_price_Grocery                        False\n",
       "sum_total_price_Meat                           False\n",
       "sum_total_price_Miscellaneous                  False\n",
       "sum_total_price_Natural Products               False\n",
       "sum_total_price_Packaged Meat                  False\n",
       "sum_total_price_Pharmaceutical                 False\n",
       "sum_total_price_Prepared Food                  False\n",
       "sum_total_price_Restauarant                    False\n",
       "sum_total_price_Salads                         False\n",
       "sum_total_price_Seafood                        False\n",
       "sum_total_price_Skin & Hair Care               False\n",
       "sum_total_price_Travel                         False\n",
       "sum_total_price_Vegetables (cut)               False\n",
       "sum_quantity_Established                       False\n",
       "sum_quantity_Local                             False\n",
       "sum_total_price_Established                    False\n",
       "sum_total_price_Local                          False\n",
       "rented                                         False\n",
       "income_bracket                                 False\n",
       "campaign_duration                              False\n",
       "season                                         False\n",
       "no_Shopped_days_aff                            False\n",
       "no_shopped_items_aff                           False\n",
       "no_shopped_brands_aff                          False\n",
       "no_shopped_category_aff                        False\n",
       "total_quantity_shopped_aff                     False\n",
       "total_selling_price_aff                        False\n",
       "total_shopped_price_aff                        False\n",
       "value_other_discont_aff                        False\n",
       "value_coupon_discount_aff                      False\n",
       "('no_brand', 'Established')                    False\n",
       "('no_brand', 'Local')                          False\n",
       "('no_category', 'Established')                 False\n",
       "('no_category', 'Local')                       False\n",
       "('no_items', 'Established')                    False\n",
       "('no_items', 'Local')                          False\n",
       "('diff_days', 'mean')                          False\n",
       "('diff_days', 'max')                           False\n",
       "('diff_days', 'min')                           False\n",
       "Jaccard                                        False\n",
       "Jaccard_brand                                  False\n",
       "Bakery                                         False\n",
       "Dairy, Juices & Snacks                         False\n",
       "Flowers & Plants                               False\n",
       "Garden                                         False\n",
       "Grocery                                        False\n",
       "Meat                                           False\n",
       "Miscellaneous                                  False\n",
       "Natural Products                               False\n",
       "Packaged Meat                                  False\n",
       "Pharmaceutical                                 False\n",
       "Prepared Food                                  False\n",
       "Restauarant                                    False\n",
       "Salads                                         False\n",
       "Seafood                                        False\n",
       "Skin & Hair Care                               False\n",
       "Travel                                         False\n",
       "Vegetables (cut)                               False\n",
       "most_bought_category_Dairy, Juices & Snacks    False\n",
       "most_bought_category_Grocery                   False\n",
       "most_bought_category_Packaged Meat             False\n",
       "most_bought_category_Pharmaceutical            False\n",
       "age_range_18-25                                False\n",
       "age_range_26-35                                False\n",
       "age_range_36-45                                False\n",
       "age_range_46-55                                False\n",
       "age_range_56-70                                False\n",
       "age_range_70+                                  False\n",
       "marital_status_Married                         False\n",
       "marital_status_NoData                          False\n",
       "marital_status_Single                          False\n",
       "family_size_1                                  False\n",
       "family_size_2                                  False\n",
       "family_size_3                                  False\n",
       "family_size_4                                  False\n",
       "family_size_5+                                 False\n",
       "no_of_children_1                               False\n",
       "no_of_children_2                               False\n",
       "no_of_children_3+                              False\n",
       "no_of_children_NoData                          False\n",
       "campaign_type_X                                False\n",
       "campaign_type_Y                                False\n",
       "dtype: bool"
      ]
     },
     "execution_count": 308,
     "metadata": {},
     "output_type": "execute_result"
    }
   ],
   "source": [
    "X.isna().sum() == X.shape[0]"
   ]
  },
  {
   "cell_type": "code",
   "execution_count": null,
   "metadata": {},
   "outputs": [],
   "source": [
    "X."
   ]
  }
 ],
 "metadata": {
  "kernelspec": {
   "display_name": "Python 3",
   "language": "python",
   "name": "python3"
  },
  "language_info": {
   "codemirror_mode": {
    "name": "ipython",
    "version": 3
   },
   "file_extension": ".py",
   "mimetype": "text/x-python",
   "name": "python",
   "nbconvert_exporter": "python",
   "pygments_lexer": "ipython3",
   "version": "3.7.1"
  }
 },
 "nbformat": 4,
 "nbformat_minor": 2
}
